{
  "nbformat": 4,
  "nbformat_minor": 0,
  "metadata": {
    "colab": {
      "name": "_NumPy 한번에 제대로 배우기.ipynb",
      "provenance": [],
      "collapsed_sections": [],
      "toc_visible": true,
      "include_colab_link": true
    },
    "kernelspec": {
      "name": "python3",
      "display_name": "Python 3"
    }
  },
  "cells": [
    {
      "cell_type": "markdown",
      "metadata": {
        "id": "view-in-github",
        "colab_type": "text"
      },
      "source": [
        "<a href=\"https://colab.research.google.com/github/Lee-AHCL/Tools/blob/main/NumPy.ipynb\" target=\"_parent\"><img src=\"https://colab.research.google.com/assets/colab-badge.svg\" alt=\"Open In Colab\"/></a>"
      ]
    },
    {
      "cell_type": "markdown",
      "metadata": {
        "id": "J_FfQuu2Tb30"
      },
      "source": [
        "# NumPy 한번에 제대로 배우기"
      ]
    },
    {
      "cell_type": "markdown",
      "metadata": {
        "id": "Zgrrh9T2vs8u"
      },
      "source": [
        "\n",
        "\n",
        "---\n",
        "\n"
      ]
    },
    {
      "cell_type": "markdown",
      "metadata": {
        "id": "oR5hNBH-Retd"
      },
      "source": [
        "## NumPy 특징\n",
        "\n",
        "* Numerical Python의 약자\n",
        "* 고성능 과학 계산용 패키지로 강력한 N차원 배열 객체\n",
        "* 범용적 데이터 처리에 사용 가능한 다차원 컨테이너\n",
        "* 정교한 브로드캐스팅(broadcasting) 기능\n",
        "* 파이썬의 자료형 list와 비슷하지만, 더 빠르고 메모리를 효율적으로 관리\n",
        "* 반복문 없이 데이터 배열에 대한 처리를 지원하여 빠르고 편리\n",
        "* 데이터 과학 도구에 대한 생태계의 핵심을 이루고 있음"
      ]
    },
    {
      "cell_type": "code",
      "metadata": {
        "id": "R9klTdhLQ564",
        "colab": {
          "base_uri": "https://localhost:8080/",
          "height": 37
        },
        "outputId": "1e90bd83-d323-40ac-89cf-d80a52d43239"
      },
      "source": [
        "import numpy as np\n",
        "np.__version__\n"
      ],
      "execution_count": 2,
      "outputs": [
        {
          "output_type": "execute_result",
          "data": {
            "text/plain": [
              "'1.21.6'"
            ],
            "application/vnd.google.colaboratory.intrinsic+json": {
              "type": "string"
            }
          },
          "metadata": {},
          "execution_count": 2
        }
      ]
    },
    {
      "cell_type": "markdown",
      "metadata": {
        "id": "2hSWC5ptGyWP"
      },
      "source": [
        "\n",
        "\n",
        "---\n",
        "\n"
      ]
    },
    {
      "cell_type": "markdown",
      "metadata": {
        "id": "1kgkJZFlVUqk"
      },
      "source": [
        "## 배열 생성"
      ]
    },
    {
      "cell_type": "markdown",
      "metadata": {
        "id": "5eQ4sAkMbzm0"
      },
      "source": [
        "### 리스트로 배열 만들기\n"
      ]
    },
    {
      "cell_type": "code",
      "metadata": {
        "id": "Mtod2jcPWVvV",
        "colab": {
          "base_uri": "https://localhost:8080/"
        },
        "outputId": "66f72741-10a2-4dfc-e0eb-89831a1c8b62"
      },
      "source": [
        "a1 = np.array([1,2,3,4,5])\n",
        "print(a1)\n",
        "print(type(a1))\n",
        "print(a1.shape)\n",
        "print(a1[0], a1[1], a1[2])\n",
        "a1[0] = 4\n",
        "a1[1] = 5\n",
        "a1[2] = 6\n",
        "print(a1)"
      ],
      "execution_count": 8,
      "outputs": [
        {
          "output_type": "stream",
          "name": "stdout",
          "text": [
            "[1 2 3 4 5]\n",
            "<class 'numpy.ndarray'>\n",
            "(5,)\n",
            "1 2 3\n",
            "[4 5 6 4 5]\n"
          ]
        }
      ]
    },
    {
      "cell_type": "code",
      "metadata": {
        "id": "vp9tkHH8esXT",
        "colab": {
          "base_uri": "https://localhost:8080/"
        },
        "outputId": "d8111bbf-22f6-4f4b-9397-9d8092ee0c5a"
      },
      "source": [
        "a2 = np.array([[1,2,3],[5,6,7],[7,8,9]])\n",
        "print(a2)\n",
        "print(a2.shape)\n",
        "print(a2[0,0],a2[1,1],a2[2,2])"
      ],
      "execution_count": 11,
      "outputs": [
        {
          "output_type": "stream",
          "name": "stdout",
          "text": [
            "[[1 2 3]\n",
            " [5 6 7]\n",
            " [7 8 9]]\n",
            "(3, 3)\n",
            "1 6 9\n"
          ]
        }
      ]
    },
    {
      "cell_type": "code",
      "metadata": {
        "id": "Baj4gZ2meuJu",
        "colab": {
          "base_uri": "https://localhost:8080/"
        },
        "outputId": "32227814-8080-486d-b504-b5d9af573ca6"
      },
      "source": [
        "a3 = np.array([[[1,2,3],[4,5,6],[7,8,9]],\n",
        "               [[1,2,3],[4,5,6],[7,8,9]],\n",
        "               [[1,2,3],[4,5,6],[7,8,9]]])\n",
        "print(a3)\n",
        "print(a3.shape)\n"
      ],
      "execution_count": 14,
      "outputs": [
        {
          "output_type": "stream",
          "name": "stdout",
          "text": [
            "[[[1 2 3]\n",
            "  [4 5 6]\n",
            "  [7 8 9]]\n",
            "\n",
            " [[1 2 3]\n",
            "  [4 5 6]\n",
            "  [7 8 9]]\n",
            "\n",
            " [[1 2 3]\n",
            "  [4 5 6]\n",
            "  [7 8 9]]]\n",
            "(3, 3, 3)\n"
          ]
        }
      ]
    },
    {
      "cell_type": "markdown",
      "metadata": {
        "id": "PNkKtw4CoSDB"
      },
      "source": [
        "### 배열 생성 및 초기화"
      ]
    },
    {
      "cell_type": "markdown",
      "metadata": {
        "id": "mJVii5p_VfgM"
      },
      "source": [
        "* `zeros()`: 모든 요소를 0으로 초기화"
      ]
    },
    {
      "cell_type": "code",
      "metadata": {
        "id": "W_SF1tVoVTf1",
        "colab": {
          "base_uri": "https://localhost:8080/"
        },
        "outputId": "088a7942-2837-4313-8501-1d7112939475"
      },
      "source": [
        "np.zeros(10)"
      ],
      "execution_count": 15,
      "outputs": [
        {
          "output_type": "execute_result",
          "data": {
            "text/plain": [
              "array([0., 0., 0., 0., 0., 0., 0., 0., 0., 0.])"
            ]
          },
          "metadata": {},
          "execution_count": 15
        }
      ]
    },
    {
      "cell_type": "markdown",
      "metadata": {
        "id": "LjYFQrODVqhX"
      },
      "source": [
        "* `ones()`: 모든 요소를 1로 초기화"
      ]
    },
    {
      "cell_type": "code",
      "metadata": {
        "id": "MURoqsMsVeUw",
        "colab": {
          "base_uri": "https://localhost:8080/"
        },
        "outputId": "aae376de-5168-4764-9419-62c67c3fcc75"
      },
      "source": [
        "np.ones((3,4))"
      ],
      "execution_count": 17,
      "outputs": [
        {
          "output_type": "execute_result",
          "data": {
            "text/plain": [
              "array([[1., 1., 1., 1.],\n",
              "       [1., 1., 1., 1.],\n",
              "       [1., 1., 1., 1.]])"
            ]
          },
          "metadata": {},
          "execution_count": 17
        }
      ]
    },
    {
      "cell_type": "markdown",
      "metadata": {
        "id": "jnmm3Cj-cGtx"
      },
      "source": [
        "* `full()`: 모든 요소를 지정한 값으로 초기화"
      ]
    },
    {
      "cell_type": "code",
      "metadata": {
        "id": "oscabrdcV7Ny",
        "colab": {
          "base_uri": "https://localhost:8080/"
        },
        "outputId": "a7bcb84e-ba42-41b8-8d6b-e7d8b6852f1f"
      },
      "source": [
        "np.full((3,5), 7)"
      ],
      "execution_count": 18,
      "outputs": [
        {
          "output_type": "execute_result",
          "data": {
            "text/plain": [
              "array([[7, 7, 7, 7, 7],\n",
              "       [7, 7, 7, 7, 7],\n",
              "       [7, 7, 7, 7, 7]])"
            ]
          },
          "metadata": {},
          "execution_count": 18
        }
      ]
    },
    {
      "cell_type": "markdown",
      "metadata": {
        "id": "0SRI4jbmlIKc"
      },
      "source": [
        "* `eye()`: 단위행렬(identity matrix) 생성\n",
        "  + 주대각선의 원소가 모두 1이고 나머지 원소는 모두 0인 정사각 행렬"
      ]
    },
    {
      "cell_type": "code",
      "metadata": {
        "id": "VceBVLLjk9o5",
        "colab": {
          "base_uri": "https://localhost:8080/"
        },
        "outputId": "fbb38501-f10a-4d28-a03c-f34307a58d38"
      },
      "source": [
        "np.eye(7)"
      ],
      "execution_count": 19,
      "outputs": [
        {
          "output_type": "execute_result",
          "data": {
            "text/plain": [
              "array([[1., 0., 0., 0., 0., 0., 0.],\n",
              "       [0., 1., 0., 0., 0., 0., 0.],\n",
              "       [0., 0., 1., 0., 0., 0., 0.],\n",
              "       [0., 0., 0., 1., 0., 0., 0.],\n",
              "       [0., 0., 0., 0., 1., 0., 0.],\n",
              "       [0., 0., 0., 0., 0., 1., 0.],\n",
              "       [0., 0., 0., 0., 0., 0., 1.]])"
            ]
          },
          "metadata": {},
          "execution_count": 19
        }
      ]
    },
    {
      "cell_type": "markdown",
      "metadata": {
        "id": "7CCH1ZMT5R02"
      },
      "source": [
        "* `tri()`: 삼각행렬 생성"
      ]
    },
    {
      "cell_type": "code",
      "metadata": {
        "id": "mLe2Bhj05VYu",
        "colab": {
          "base_uri": "https://localhost:8080/"
        },
        "outputId": "136efc35-c5a5-482c-a859-aa9c179d6658"
      },
      "source": [
        "np.tri(7)"
      ],
      "execution_count": 20,
      "outputs": [
        {
          "output_type": "execute_result",
          "data": {
            "text/plain": [
              "array([[1., 0., 0., 0., 0., 0., 0.],\n",
              "       [1., 1., 0., 0., 0., 0., 0.],\n",
              "       [1., 1., 1., 0., 0., 0., 0.],\n",
              "       [1., 1., 1., 1., 0., 0., 0.],\n",
              "       [1., 1., 1., 1., 1., 0., 0.],\n",
              "       [1., 1., 1., 1., 1., 1., 0.],\n",
              "       [1., 1., 1., 1., 1., 1., 1.]])"
            ]
          },
          "metadata": {},
          "execution_count": 20
        }
      ]
    },
    {
      "cell_type": "markdown",
      "metadata": {
        "id": "ObZRA4HclZlO"
      },
      "source": [
        "* `empty()`: 초기화되지 않은 배열 생성\n",
        "  + 초기화가 없어서 배열 생성비용 저렴하고 빠름\n",
        "  + 초기화되지 않아서 기존 메모리 위치에 존재하는 값이 있음"
      ]
    },
    {
      "cell_type": "code",
      "metadata": {
        "id": "I3SoFgiglAkz",
        "colab": {
          "base_uri": "https://localhost:8080/"
        },
        "outputId": "73cd741e-8008-4600-95ef-42fe59009cea"
      },
      "source": [
        "np.empty(10)"
      ],
      "execution_count": 21,
      "outputs": [
        {
          "output_type": "execute_result",
          "data": {
            "text/plain": [
              "array([1., 1., 1., 1., 1., 1., 1., 1., 1., 1.])"
            ]
          },
          "metadata": {},
          "execution_count": 21
        }
      ]
    },
    {
      "cell_type": "markdown",
      "metadata": {
        "id": "p3uSl1Ccmi5_"
      },
      "source": [
        "* `_like()`: 지정된 배열과 shape가 같은 행렬 생성\n",
        "  + `np.zeros_like()`\n",
        "  + `np.ones_like()`\n",
        "  + `np.full_like()`\n",
        "  + `np.empty_like()`"
      ]
    },
    {
      "cell_type": "code",
      "metadata": {
        "id": "Ad5RskRRlZLs",
        "colab": {
          "base_uri": "https://localhost:8080/"
        },
        "outputId": "b04f420c-4f2b-4ae1-dc5a-08bcc89d8cc2"
      },
      "source": [
        "print(a1)\n",
        "np.zeros_like(a1)"
      ],
      "execution_count": 22,
      "outputs": [
        {
          "output_type": "stream",
          "name": "stdout",
          "text": [
            "[4 5 6 4 5]\n"
          ]
        },
        {
          "output_type": "execute_result",
          "data": {
            "text/plain": [
              "array([0, 0, 0, 0, 0])"
            ]
          },
          "metadata": {},
          "execution_count": 22
        }
      ]
    },
    {
      "cell_type": "code",
      "metadata": {
        "id": "KChUHsG003Nf",
        "colab": {
          "base_uri": "https://localhost:8080/"
        },
        "outputId": "1c9a4b3b-ed87-4feb-9aef-afdc7c4fe1cb"
      },
      "source": [
        "print(a2)\n",
        "np.ones_like(a2)"
      ],
      "execution_count": 23,
      "outputs": [
        {
          "output_type": "stream",
          "name": "stdout",
          "text": [
            "[[1 2 3]\n",
            " [5 6 7]\n",
            " [7 8 9]]\n"
          ]
        },
        {
          "output_type": "execute_result",
          "data": {
            "text/plain": [
              "array([[1, 1, 1],\n",
              "       [1, 1, 1],\n",
              "       [1, 1, 1]])"
            ]
          },
          "metadata": {},
          "execution_count": 23
        }
      ]
    },
    {
      "cell_type": "code",
      "metadata": {
        "id": "PUnDz6b305Gg",
        "colab": {
          "base_uri": "https://localhost:8080/"
        },
        "outputId": "24723f8b-bef9-48c3-b1da-ae4b21dc2aec"
      },
      "source": [
        "print(a3)\n",
        "np.full_like(a3, 9)"
      ],
      "execution_count": 25,
      "outputs": [
        {
          "output_type": "stream",
          "name": "stdout",
          "text": [
            "[[[1 2 3]\n",
            "  [4 5 6]\n",
            "  [7 8 9]]\n",
            "\n",
            " [[1 2 3]\n",
            "  [4 5 6]\n",
            "  [7 8 9]]\n",
            "\n",
            " [[1 2 3]\n",
            "  [4 5 6]\n",
            "  [7 8 9]]]\n"
          ]
        },
        {
          "output_type": "execute_result",
          "data": {
            "text/plain": [
              "array([[[9, 9, 9],\n",
              "        [9, 9, 9],\n",
              "        [9, 9, 9]],\n",
              "\n",
              "       [[9, 9, 9],\n",
              "        [9, 9, 9],\n",
              "        [9, 9, 9]],\n",
              "\n",
              "       [[9, 9, 9],\n",
              "        [9, 9, 9],\n",
              "        [9, 9, 9]]])"
            ]
          },
          "metadata": {},
          "execution_count": 25
        }
      ]
    },
    {
      "cell_type": "markdown",
      "metadata": {
        "id": "apoksGJNrn1z"
      },
      "source": [
        "### 생성한 값으로 배열 생성"
      ]
    },
    {
      "cell_type": "markdown",
      "metadata": {
        "id": "H3nmLct8cnV8"
      },
      "source": [
        "* `arange()`: 정수 범위로 배열 생성"
      ]
    },
    {
      "cell_type": "code",
      "metadata": {
        "id": "mANy4WY4cDKa",
        "colab": {
          "base_uri": "https://localhost:8080/"
        },
        "outputId": "c1aab770-24d9-4340-f8ee-e260d02e3b27"
      },
      "source": [
        "np.arange(0, 30, 2)"
      ],
      "execution_count": 26,
      "outputs": [
        {
          "output_type": "execute_result",
          "data": {
            "text/plain": [
              "array([ 0,  2,  4,  6,  8, 10, 12, 14, 16, 18, 20, 22, 24, 26, 28])"
            ]
          },
          "metadata": {},
          "execution_count": 26
        }
      ]
    },
    {
      "cell_type": "markdown",
      "metadata": {
        "id": "s5kET1e6itlo"
      },
      "source": [
        "* `linspace()`: 범위 내에서 균등 간격의 배열 생성"
      ]
    },
    {
      "cell_type": "code",
      "metadata": {
        "id": "u4q9gI7Zcltz",
        "colab": {
          "base_uri": "https://localhost:8080/"
        },
        "outputId": "0f9d5d7d-e639-40d4-d669-8024485ea78c"
      },
      "source": [
        "np.linspace(0, 1, 5)"
      ],
      "execution_count": 27,
      "outputs": [
        {
          "output_type": "execute_result",
          "data": {
            "text/plain": [
              "array([0.  , 0.25, 0.5 , 0.75, 1.  ])"
            ]
          },
          "metadata": {},
          "execution_count": 27
        }
      ]
    },
    {
      "cell_type": "markdown",
      "metadata": {
        "id": "Eq26d7T3nnAH"
      },
      "source": [
        "* `logspace()`: 범위 내에서 균등간격으로 로그 스케일로 배열 생성"
      ]
    },
    {
      "cell_type": "code",
      "metadata": {
        "id": "-O29WBVEnyXX",
        "colab": {
          "base_uri": "https://localhost:8080/"
        },
        "outputId": "9e8e0c79-ce91-4154-84c8-fbf61bc5d585"
      },
      "source": [
        "np.logspace(0.1, 1, 20)"
      ],
      "execution_count": 28,
      "outputs": [
        {
          "output_type": "execute_result",
          "data": {
            "text/plain": [
              "array([ 1.25892541,  1.40400425,  1.565802  ,  1.74624535,  1.94748304,\n",
              "        2.1719114 ,  2.42220294,  2.70133812,  3.0126409 ,  3.35981829,\n",
              "        3.74700446,  4.17881006,  4.66037703,  5.19743987,  5.79639395,\n",
              "        6.46437163,  7.2093272 ,  8.04013161,  8.9666781 , 10.        ])"
            ]
          },
          "metadata": {},
          "execution_count": 28
        }
      ]
    },
    {
      "cell_type": "markdown",
      "metadata": {
        "id": "6_88s4_Jr7fO"
      },
      "source": [
        "### 랜덤값으로 배열 생성\n"
      ]
    },
    {
      "cell_type": "markdown",
      "metadata": {
        "id": "CoK1cVUkjNMg"
      },
      "source": [
        "* `random.random()`: 랜덤한 수의 배열 생성"
      ]
    },
    {
      "cell_type": "code",
      "metadata": {
        "id": "qJwccKEnjMze",
        "colab": {
          "base_uri": "https://localhost:8080/"
        },
        "outputId": "456f7c74-d062-479a-bad7-1ec9b7901dbb"
      },
      "source": [
        "np.random.random((4,4))"
      ],
      "execution_count": 29,
      "outputs": [
        {
          "output_type": "execute_result",
          "data": {
            "text/plain": [
              "array([[0.72581286, 0.74603565, 0.34180217, 0.00805142],\n",
              "       [0.60237476, 0.48237252, 0.85292304, 0.87634566],\n",
              "       [0.66557313, 0.8059727 , 0.73364731, 0.19021654],\n",
              "       [0.86781602, 0.02860303, 0.28377425, 0.34049408]])"
            ]
          },
          "metadata": {},
          "execution_count": 29
        }
      ]
    },
    {
      "cell_type": "markdown",
      "metadata": {
        "id": "BYsAVwA1kvDI"
      },
      "source": [
        "* `random.randint()`: 일정 구간의 랜덤 정수의 배열 생성"
      ]
    },
    {
      "cell_type": "code",
      "metadata": {
        "id": "oR-UszZ_jqfQ",
        "colab": {
          "base_uri": "https://localhost:8080/"
        },
        "outputId": "3a6b8465-bf95-45d1-c0fe-4ff256991257"
      },
      "source": [
        "np.random.randint(0, 10, (3,3))"
      ],
      "execution_count": 33,
      "outputs": [
        {
          "output_type": "execute_result",
          "data": {
            "text/plain": [
              "array([[3, 9, 2],\n",
              "       [8, 0, 1],\n",
              "       [6, 5, 5]])"
            ]
          },
          "metadata": {},
          "execution_count": 33
        }
      ]
    },
    {
      "cell_type": "markdown",
      "metadata": {
        "id": "2r557WHsjrL3"
      },
      "source": [
        "* `random.normal()`: 정규분포(normal distribution)를 고려한 랜덤한 수의 배열 생성\n",
        "* 평균=0, 표준편차=1, 3 x 3 배열"
      ]
    },
    {
      "cell_type": "code",
      "metadata": {
        "id": "Oan3bSpHi2Wq",
        "colab": {
          "base_uri": "https://localhost:8080/"
        },
        "outputId": "542d84f7-d8ae-4d99-e3d6-2d19b15fbecf"
      },
      "source": [
        "np.random.normal(0, 1, (3,3))"
      ],
      "execution_count": 34,
      "outputs": [
        {
          "output_type": "execute_result",
          "data": {
            "text/plain": [
              "array([[ 1.05018754,  1.06463131,  1.11710236],\n",
              "       [-0.63959439,  1.17334106, -0.16284391],\n",
              "       [ 0.6569808 , -0.62055458,  1.32845554]])"
            ]
          },
          "metadata": {},
          "execution_count": 34
        }
      ]
    },
    {
      "cell_type": "markdown",
      "metadata": {
        "id": "fPO-D1rHsrFw"
      },
      "source": [
        "* `random.rand()`: 균등분포(uniform distribution)를 고려한 랜덤한 수의 배열 생성"
      ]
    },
    {
      "cell_type": "code",
      "metadata": {
        "id": "DxiyEjnXnDUT",
        "colab": {
          "base_uri": "https://localhost:8080/"
        },
        "outputId": "338e95d6-1478-4d7c-ce93-426a9bc9d69a"
      },
      "source": [
        "np.random.random((3,3))"
      ],
      "execution_count": 35,
      "outputs": [
        {
          "output_type": "execute_result",
          "data": {
            "text/plain": [
              "array([[0.99666621, 0.93349694, 0.76279575],\n",
              "       [0.51416455, 0.7348339 , 0.29022168],\n",
              "       [0.20779323, 0.74638242, 0.75252486]])"
            ]
          },
          "metadata": {},
          "execution_count": 35
        }
      ]
    },
    {
      "cell_type": "markdown",
      "metadata": {
        "id": "IegH2dsPLQgd"
      },
      "source": [
        "* `random.randn()`: 표준 정규 분포(standard normal distribution)를 고려한 랜덤한 수의 배열 생성"
      ]
    },
    {
      "cell_type": "code",
      "metadata": {
        "id": "V61VHa-JLIma",
        "colab": {
          "base_uri": "https://localhost:8080/"
        },
        "outputId": "7e594ddd-2b4c-4333-d797-07dd5682d9d4"
      },
      "source": [
        "np.random.randn(3,3)"
      ],
      "execution_count": 36,
      "outputs": [
        {
          "output_type": "execute_result",
          "data": {
            "text/plain": [
              "array([[ 1.5406849 ,  0.34719798, -1.20260785],\n",
              "       [ 0.28984514, -0.35665885, -0.17712072],\n",
              "       [ 0.42553733,  0.25553575, -0.46874419]])"
            ]
          },
          "metadata": {},
          "execution_count": 36
        }
      ]
    },
    {
      "cell_type": "markdown",
      "metadata": {
        "id": "5ts0cYLQL_pT"
      },
      "source": [
        "### 표준 데이터 타입"
      ]
    },
    {
      "cell_type": "code",
      "metadata": {
        "id": "rxqTqAFKL73y",
        "colab": {
          "base_uri": "https://localhost:8080/"
        },
        "outputId": "da497795-f7db-4ab6-b57c-79159dbcfd92"
      },
      "source": [
        "np.zeros(20, dtype = int)"
      ],
      "execution_count": 37,
      "outputs": [
        {
          "output_type": "execute_result",
          "data": {
            "text/plain": [
              "array([0, 0, 0, 0, 0, 0, 0, 0, 0, 0, 0, 0, 0, 0, 0, 0, 0, 0, 0, 0])"
            ]
          },
          "metadata": {},
          "execution_count": 37
        }
      ]
    },
    {
      "cell_type": "code",
      "metadata": {
        "id": "o9TuSl6HIsXr",
        "colab": {
          "base_uri": "https://localhost:8080/"
        },
        "outputId": "a23432e5-e297-43cc-e3b8-0a222c775016"
      },
      "source": [
        "np.zeros((3,3), dtype = bool)"
      ],
      "execution_count": 38,
      "outputs": [
        {
          "output_type": "execute_result",
          "data": {
            "text/plain": [
              "array([[False, False, False],\n",
              "       [False, False, False],\n",
              "       [False, False, False]])"
            ]
          },
          "metadata": {},
          "execution_count": 38
        }
      ]
    },
    {
      "cell_type": "code",
      "metadata": {
        "id": "w-TciNfzEhY0",
        "colab": {
          "base_uri": "https://localhost:8080/"
        },
        "outputId": "46526fb9-d015-46bd-d82c-149a5857d439"
      },
      "source": [
        "np.full((3,3), 1.0, dtype = float)"
      ],
      "execution_count": 39,
      "outputs": [
        {
          "output_type": "execute_result",
          "data": {
            "text/plain": [
              "array([[1., 1., 1.],\n",
              "       [1., 1., 1.],\n",
              "       [1., 1., 1.]])"
            ]
          },
          "metadata": {},
          "execution_count": 39
        }
      ]
    },
    {
      "cell_type": "markdown",
      "metadata": {
        "id": "1qFumu-p-0mQ"
      },
      "source": [
        "### 날짜/시간 배열 생성\n"
      ]
    },
    {
      "cell_type": "code",
      "metadata": {
        "id": "D8ozvTUf-6Rr",
        "colab": {
          "base_uri": "https://localhost:8080/"
        },
        "outputId": "4601e482-15f8-4da6-ed88-9c4cd4ce27a0"
      },
      "source": [
        "date = np.array('2020-01-01', dtype = np.datetime64)\n",
        "print(date)"
      ],
      "execution_count": 41,
      "outputs": [
        {
          "output_type": "stream",
          "name": "stdout",
          "text": [
            "2020-01-01\n"
          ]
        }
      ]
    },
    {
      "cell_type": "code",
      "metadata": {
        "id": "XIjLUkn6_K3J",
        "colab": {
          "base_uri": "https://localhost:8080/"
        },
        "outputId": "02c30f70-b3d8-4b7e-d1c9-3dea98bb0fe8"
      },
      "source": [
        "date + np.arange(12)"
      ],
      "execution_count": 42,
      "outputs": [
        {
          "output_type": "execute_result",
          "data": {
            "text/plain": [
              "array(['2020-01-01', '2020-01-02', '2020-01-03', '2020-01-04',\n",
              "       '2020-01-05', '2020-01-06', '2020-01-07', '2020-01-08',\n",
              "       '2020-01-09', '2020-01-10', '2020-01-11', '2020-01-12'],\n",
              "      dtype='datetime64[D]')"
            ]
          },
          "metadata": {},
          "execution_count": 42
        }
      ]
    },
    {
      "cell_type": "code",
      "metadata": {
        "id": "EO7yE5VR_Wlh",
        "colab": {
          "base_uri": "https://localhost:8080/"
        },
        "outputId": "77450181-778f-4f21-f134-d96980a9082d"
      },
      "source": [
        "datetime = np.datetime64('2020-06-01 12:00')\n",
        "datetime"
      ],
      "execution_count": 43,
      "outputs": [
        {
          "output_type": "execute_result",
          "data": {
            "text/plain": [
              "numpy.datetime64('2020-06-01T12:00')"
            ]
          },
          "metadata": {},
          "execution_count": 43
        }
      ]
    },
    {
      "cell_type": "code",
      "metadata": {
        "id": "3dnOlf9i_kzX",
        "colab": {
          "base_uri": "https://localhost:8080/"
        },
        "outputId": "974d384a-e956-4c23-822f-984230329f31"
      },
      "source": [
        "datetime = np.datetime64('2020-06-01 12:00:12.34', 'ns')\n",
        "datetime"
      ],
      "execution_count": 44,
      "outputs": [
        {
          "output_type": "execute_result",
          "data": {
            "text/plain": [
              "numpy.datetime64('2020-06-01T12:00:12.340000000')"
            ]
          },
          "metadata": {},
          "execution_count": 44
        }
      ]
    },
    {
      "cell_type": "markdown",
      "metadata": {
        "id": "5AREIamhGxAr"
      },
      "source": [
        "\n",
        "\n",
        "---\n",
        "\n"
      ]
    },
    {
      "cell_type": "markdown",
      "metadata": {
        "id": "d88tkTqbBE5V"
      },
      "source": [
        "## 배열 조회"
      ]
    },
    {
      "cell_type": "markdown",
      "metadata": {
        "id": "vRqwfbjtFnPn"
      },
      "source": [
        "### 배열 속성 정보"
      ]
    },
    {
      "cell_type": "code",
      "metadata": {
        "id": "R5Rlcll7GXrM"
      },
      "source": [
        "def array_info(array):\n",
        "  print(array)\n",
        "  print(\"ndim : \", array.ndim)\n",
        "  print(\"shape : \", array.shape)\n",
        "  print(\"dtype : \", array.dtype)\n",
        "  print(\"size : \", array.size)\n",
        "  print(\"itemsize : \", array.itemsize)\n",
        "  print(\"nbytes : \", array.nbytes)\n",
        "  print(\"strides : \", array.strides)"
      ],
      "execution_count": 45,
      "outputs": []
    },
    {
      "cell_type": "code",
      "metadata": {
        "id": "Na59LwA7KXZV",
        "colab": {
          "base_uri": "https://localhost:8080/"
        },
        "outputId": "8c833f59-d72a-48a5-fb2d-326e35b33957"
      },
      "source": [
        "array_info(a1)"
      ],
      "execution_count": 46,
      "outputs": [
        {
          "output_type": "stream",
          "name": "stdout",
          "text": [
            "[4 5 6 4 5]\n",
            "ndim :  1\n",
            "shape :  (5,)\n",
            "dtype :  int64\n",
            "size :  5\n",
            "itemsize :  8\n",
            "nbytes :  40\n",
            "strides :  (8,)\n"
          ]
        }
      ]
    },
    {
      "cell_type": "code",
      "metadata": {
        "id": "Urzr_LsdLah0",
        "colab": {
          "base_uri": "https://localhost:8080/"
        },
        "outputId": "f3788e40-7158-417b-c6eb-297aadbece16"
      },
      "source": [
        "array_info(a2)"
      ],
      "execution_count": 47,
      "outputs": [
        {
          "output_type": "stream",
          "name": "stdout",
          "text": [
            "[[1 2 3]\n",
            " [5 6 7]\n",
            " [7 8 9]]\n",
            "ndim :  2\n",
            "shape :  (3, 3)\n",
            "dtype :  int64\n",
            "size :  9\n",
            "itemsize :  8\n",
            "nbytes :  72\n",
            "strides :  (24, 8)\n"
          ]
        }
      ]
    },
    {
      "cell_type": "code",
      "metadata": {
        "id": "jktqh1lsLf4V",
        "colab": {
          "base_uri": "https://localhost:8080/"
        },
        "outputId": "8ab7a8b5-d36a-424c-d5dd-1614ccc3b3fd"
      },
      "source": [
        "array_info(a3)"
      ],
      "execution_count": 48,
      "outputs": [
        {
          "output_type": "stream",
          "name": "stdout",
          "text": [
            "[[[1 2 3]\n",
            "  [4 5 6]\n",
            "  [7 8 9]]\n",
            "\n",
            " [[1 2 3]\n",
            "  [4 5 6]\n",
            "  [7 8 9]]\n",
            "\n",
            " [[1 2 3]\n",
            "  [4 5 6]\n",
            "  [7 8 9]]]\n",
            "ndim :  3\n",
            "shape :  (3, 3, 3)\n",
            "dtype :  int64\n",
            "size :  27\n",
            "itemsize :  8\n",
            "nbytes :  216\n",
            "strides :  (72, 24, 8)\n"
          ]
        }
      ]
    },
    {
      "cell_type": "markdown",
      "metadata": {
        "id": "LV1WfdBWFqDu"
      },
      "source": [
        "### 인덱싱(Indexing)"
      ]
    },
    {
      "cell_type": "code",
      "metadata": {
        "id": "Nyb7eDmGFr5m",
        "colab": {
          "base_uri": "https://localhost:8080/"
        },
        "outputId": "e2634b17-2145-4cb2-cfb2-6739a5ce50b1"
      },
      "source": [
        "print(a1)\n",
        "print(a1[0])\n",
        "print(a1[-2])"
      ],
      "execution_count": 49,
      "outputs": [
        {
          "output_type": "stream",
          "name": "stdout",
          "text": [
            "[4 5 6 4 5]\n",
            "4\n",
            "4\n"
          ]
        }
      ]
    },
    {
      "cell_type": "code",
      "metadata": {
        "id": "uHMNcQW3Kn-h",
        "colab": {
          "base_uri": "https://localhost:8080/"
        },
        "outputId": "f480f271-919d-4f36-d933-cbd83da2282c"
      },
      "source": [
        "print(a2)\n",
        "print(a2[0,2])\n",
        "print(a2[2, -1])"
      ],
      "execution_count": 50,
      "outputs": [
        {
          "output_type": "stream",
          "name": "stdout",
          "text": [
            "[[1 2 3]\n",
            " [5 6 7]\n",
            " [7 8 9]]\n",
            "3\n",
            "9\n"
          ]
        }
      ]
    },
    {
      "cell_type": "code",
      "metadata": {
        "id": "IX5yDMGiMxYZ",
        "colab": {
          "base_uri": "https://localhost:8080/"
        },
        "outputId": "148ab522-0296-46d0-aa96-16e84805442f"
      },
      "source": [
        "print(a3)\n",
        "print(a3[0,0,0])\n",
        "print(a3[2,2,2])\n",
        "print(a3[2,-1,-1])"
      ],
      "execution_count": 51,
      "outputs": [
        {
          "output_type": "stream",
          "name": "stdout",
          "text": [
            "[[[1 2 3]\n",
            "  [4 5 6]\n",
            "  [7 8 9]]\n",
            "\n",
            " [[1 2 3]\n",
            "  [4 5 6]\n",
            "  [7 8 9]]\n",
            "\n",
            " [[1 2 3]\n",
            "  [4 5 6]\n",
            "  [7 8 9]]]\n",
            "1\n",
            "9\n",
            "9\n"
          ]
        }
      ]
    },
    {
      "cell_type": "markdown",
      "metadata": {
        "id": "uSeXu2y_O4cu"
      },
      "source": [
        "### 슬라이싱(Slicing)"
      ]
    },
    {
      "cell_type": "markdown",
      "metadata": {
        "id": "1hikO_6ZPp5m"
      },
      "source": [
        "* 슬라이싱 구문: `a[start:stop:step]`\n",
        "* 기본값: start=0, stop=ndim, step=1"
      ]
    },
    {
      "cell_type": "code",
      "metadata": {
        "id": "PYZOOCoVO7BF",
        "colab": {
          "base_uri": "https://localhost:8080/"
        },
        "outputId": "b2e779a2-eb99-4539-cb27-68e03fb57bec"
      },
      "source": [
        "print(a1)\n",
        "print(a1[::2])\n",
        "print(a1[::-1])"
      ],
      "execution_count": 52,
      "outputs": [
        {
          "output_type": "stream",
          "name": "stdout",
          "text": [
            "[4 5 6 4 5]\n",
            "[4 6 5]\n",
            "[5 4 6 5 4]\n"
          ]
        }
      ]
    },
    {
      "cell_type": "code",
      "metadata": {
        "id": "oULOFrBQWs1G",
        "colab": {
          "base_uri": "https://localhost:8080/"
        },
        "outputId": "cc6aa948-f4cc-4796-9e78-6b4ddaff8183"
      },
      "source": [
        "print(a2)\n",
        "print(a2[1])\n",
        "print(a2[1,:])\n",
        "print(a2[1:, ::-1])\n",
        "print(a2[::-1, ::-1])"
      ],
      "execution_count": 53,
      "outputs": [
        {
          "output_type": "stream",
          "name": "stdout",
          "text": [
            "[[1 2 3]\n",
            " [5 6 7]\n",
            " [7 8 9]]\n",
            "[5 6 7]\n",
            "[5 6 7]\n",
            "[[7 6 5]\n",
            " [9 8 7]]\n",
            "[[9 8 7]\n",
            " [7 6 5]\n",
            " [3 2 1]]\n"
          ]
        }
      ]
    },
    {
      "cell_type": "markdown",
      "metadata": {
        "id": "LD52bXAsBgbH"
      },
      "source": [
        "### 불리언 인덱싱(Boolean Indexing)\n",
        "\n",
        "* 배열 각 요소의 선택 여부를 불리언(True or False)로 지정\n",
        "* True 값인 인덱스의 값만 조회"
      ]
    },
    {
      "cell_type": "code",
      "metadata": {
        "id": "pOvNsH2oBgz-",
        "colab": {
          "base_uri": "https://localhost:8080/"
        },
        "outputId": "5128e3cf-e4ab-4e7f-bb1b-da10395a68a2"
      },
      "source": [
        "print(a1)\n",
        "bi = [False, True, True, False, True]\n",
        "print(a1[bi])"
      ],
      "execution_count": 54,
      "outputs": [
        {
          "output_type": "stream",
          "name": "stdout",
          "text": [
            "[4 5 6 4 5]\n",
            "[5 6 5]\n"
          ]
        }
      ]
    },
    {
      "cell_type": "code",
      "metadata": {
        "id": "EFfquM2kWHAU",
        "colab": {
          "base_uri": "https://localhost:8080/"
        },
        "outputId": "13ad2bad-5ed9-46f0-965f-36ac08f98f4b"
      },
      "source": [
        "print(a2)\n",
        "bi = np.random.randint(0, 2, (3, 3), dtype =bool)\n",
        "print(bi)\n",
        "print(a2[bi])"
      ],
      "execution_count": 55,
      "outputs": [
        {
          "output_type": "stream",
          "name": "stdout",
          "text": [
            "[[1 2 3]\n",
            " [5 6 7]\n",
            " [7 8 9]]\n",
            "[[ True  True  True]\n",
            " [False  True  True]\n",
            " [ True  True  True]]\n",
            "[1 2 3 6 7 7 8 9]\n"
          ]
        }
      ]
    },
    {
      "cell_type": "markdown",
      "metadata": {
        "id": "R5hes-hdBujH"
      },
      "source": [
        "### 팬시 인덱싱(Fancy Indedxing)"
      ]
    },
    {
      "cell_type": "code",
      "metadata": {
        "id": "z-Luw5fzBx30",
        "colab": {
          "base_uri": "https://localhost:8080/"
        },
        "outputId": "2c6f700b-e31d-40bf-8094-cb83958f7098"
      },
      "source": [
        "print(a1)\n",
        "print([a1[0], a1[2]])\n",
        "ind = [0, 2]\n",
        "print(a1[ind])\n",
        "ind = np.array([[0,1], [2,1]])\n",
        "print(a1[ind])"
      ],
      "execution_count": 57,
      "outputs": [
        {
          "output_type": "stream",
          "name": "stdout",
          "text": [
            "[4 5 6 4 5]\n",
            "[4, 6]\n",
            "[4 6]\n",
            "[[4 5]\n",
            " [6 5]]\n"
          ]
        }
      ]
    },
    {
      "cell_type": "code",
      "metadata": {
        "id": "p_Dd0oiJahgj",
        "colab": {
          "base_uri": "https://localhost:8080/"
        },
        "outputId": "cb4bb56b-4504-4ae7-8aab-16a7ed79625c"
      },
      "source": [
        "print(a2)\n",
        "row = np.array([0,2])\n",
        "col = np.array([1,2])\n",
        "print(a2[row, col])"
      ],
      "execution_count": 59,
      "outputs": [
        {
          "output_type": "stream",
          "name": "stdout",
          "text": [
            "[[1 2 3]\n",
            " [5 6 7]\n",
            " [7 8 9]]\n",
            "[2 9]\n"
          ]
        }
      ]
    },
    {
      "cell_type": "markdown",
      "metadata": {
        "id": "F71_PQF1GvTs"
      },
      "source": [
        "\n",
        "\n",
        "---\n",
        "\n"
      ]
    },
    {
      "cell_type": "markdown",
      "metadata": {
        "id": "zDI5yQ58O-IX"
      },
      "source": [
        "## 배열 값 삽입/수정/삭제/복사"
      ]
    },
    {
      "cell_type": "markdown",
      "metadata": {
        "id": "zajd1qpVOQYy"
      },
      "source": [
        "### 배열 값 삽입\n",
        "\n",
        "* `insert()`: 배열의 특정 위치에 값 삽입\n",
        "* axis를 지정하지 않으면 1차원 배열로 변환\n",
        "* 추가할 방향을 axis로 지정\n",
        "* 원본 배열 변경없이 새로운 배열 반환"
      ]
    },
    {
      "cell_type": "code",
      "metadata": {
        "id": "sedRT54rP395",
        "colab": {
          "base_uri": "https://localhost:8080/"
        },
        "outputId": "5c8d99b4-e623-44ea-d080-b1179fe2b346"
      },
      "source": [
        "print(a1)\n",
        "b1 = np.insert(a1, 0, 10)\n",
        "print(b1)\n",
        "print(a1)"
      ],
      "execution_count": 61,
      "outputs": [
        {
          "output_type": "stream",
          "name": "stdout",
          "text": [
            "[4 5 6 4 5]\n",
            "[10  4  5  6  4  5]\n",
            "[4 5 6 4 5]\n"
          ]
        }
      ]
    },
    {
      "cell_type": "code",
      "metadata": {
        "id": "zNmu1E4iQ6h-",
        "colab": {
          "base_uri": "https://localhost:8080/"
        },
        "outputId": "4d5f552d-8fa3-420e-aaec-35f9967da78e"
      },
      "source": [
        "print(a2)\n",
        "b2 = np.insert(a2, 1, 10, axis = 0)\n",
        "print(b2)\n",
        "c2 = np.insert(a2, 1, 10, axis = 1)\n",
        "print(c2)"
      ],
      "execution_count": 62,
      "outputs": [
        {
          "output_type": "stream",
          "name": "stdout",
          "text": [
            "[[1 2 3]\n",
            " [5 6 7]\n",
            " [7 8 9]]\n",
            "[[ 1  2  3]\n",
            " [10 10 10]\n",
            " [ 5  6  7]\n",
            " [ 7  8  9]]\n",
            "[[ 1 10  2  3]\n",
            " [ 5 10  6  7]\n",
            " [ 7 10  8  9]]\n"
          ]
        }
      ]
    },
    {
      "cell_type": "markdown",
      "metadata": {
        "id": "OlEzG4ffNjyL"
      },
      "source": [
        "### 배열 값 수정\n",
        "\n",
        "* 배열의 인덱싱으로 접근하여 값 수정"
      ]
    },
    {
      "cell_type": "code",
      "metadata": {
        "id": "ec43i1KWNjeN",
        "colab": {
          "base_uri": "https://localhost:8080/"
        },
        "outputId": "93a71a60-95d5-4c61-bcfd-0bfce8f1e837"
      },
      "source": [
        "print(a1)\n",
        "a1[0] = 1\n",
        "a1[1] = 2\n",
        "a1[2] = 3\n",
        "print(a1)\n",
        "a1[:2] = 9\n",
        "print(a1)\n",
        "i = np.array([1,3,4])\n",
        "a1[i] = 0\n",
        "print(a1)\n",
        "a1[i] += 4\n"
      ],
      "execution_count": 66,
      "outputs": [
        {
          "output_type": "stream",
          "name": "stdout",
          "text": [
            "[9 9 3 4 5]\n",
            "[1 2 3 4 5]\n",
            "[9 9 3 4 5]\n",
            "[9 0 3 0 0]\n"
          ]
        }
      ]
    },
    {
      "cell_type": "code",
      "metadata": {
        "id": "IApNNx3NOMQh",
        "colab": {
          "base_uri": "https://localhost:8080/"
        },
        "outputId": "163cda24-80f3-4703-9fe0-4be74dca6482"
      },
      "source": [
        "print(a2)\n",
        "a2[0,0] = 1\n",
        "a2[1] = 2\n",
        "print(a2)"
      ],
      "execution_count": 67,
      "outputs": [
        {
          "output_type": "stream",
          "name": "stdout",
          "text": [
            "[[1 2 3]\n",
            " [5 6 7]\n",
            " [7 8 9]]\n",
            "[[1 2 3]\n",
            " [2 2 2]\n",
            " [7 8 9]]\n"
          ]
        }
      ]
    },
    {
      "cell_type": "markdown",
      "metadata": {
        "id": "emV7DgrITPcn"
      },
      "source": [
        "### 배열 값 삭제\n",
        "\n",
        "* `delete()`: 배열의 특정 위치에 값 삭제\n",
        "* axis를 지정하지 않으면 1차원 배열로 변환\n",
        "* 삭제할 방향을 axis로 지정\n",
        "* 원본 배열 변경없이 새로운 배열 반환"
      ]
    },
    {
      "cell_type": "code",
      "metadata": {
        "id": "I3k_Yx8lTRJ2",
        "colab": {
          "base_uri": "https://localhost:8080/"
        },
        "outputId": "eec8ed03-9b98-4619-b525-965507f12d45"
      },
      "source": [
        "print(a1)\n",
        "b1 = np.delete(a1, 1)\n",
        "print(b1)"
      ],
      "execution_count": 68,
      "outputs": [
        {
          "output_type": "stream",
          "name": "stdout",
          "text": [
            "[9 4 3 4 4]\n",
            "[9 3 4 4]\n"
          ]
        }
      ]
    },
    {
      "cell_type": "code",
      "metadata": {
        "id": "tRTwMIfJTq_y",
        "colab": {
          "base_uri": "https://localhost:8080/"
        },
        "outputId": "1f85e9d7-067e-4008-de53-5e5f77dc41a1"
      },
      "source": [
        "print(a2)\n",
        "b2 = np.delete(a2, 1, axis = 0)\n",
        "print(b2)\n",
        "c2 = np.delete(a2, 1, axis = 1)\n",
        "print(c2)"
      ],
      "execution_count": 70,
      "outputs": [
        {
          "output_type": "stream",
          "name": "stdout",
          "text": [
            "[[1 2 3]\n",
            " [2 2 2]\n",
            " [7 8 9]]\n",
            "[[1 2 3]\n",
            " [7 8 9]]\n",
            "[[1 3]\n",
            " [2 2]\n",
            " [7 9]]\n"
          ]
        }
      ]
    },
    {
      "cell_type": "markdown",
      "metadata": {
        "id": "UydkYxV8Z6Fx"
      },
      "source": [
        "### 배열 복사\n",
        "\n",
        "* 리스트 자료형과 달리 배열의 슬라이스는 복사본이 아님"
      ]
    },
    {
      "cell_type": "code",
      "metadata": {
        "id": "n2_0L8KWZ7wH",
        "colab": {
          "base_uri": "https://localhost:8080/"
        },
        "outputId": "9c954c88-1132-4662-cacc-a8959b12c462"
      },
      "source": [
        "print(a2)\n",
        "print(a2[:2, :2])\n",
        "a2_sub = a2[:2, :2]\n",
        "print(a2_sub)\n",
        "a2_sub[:,1] = 0\n",
        "print(a2_sub)\n",
        "print(a2)"
      ],
      "execution_count": 73,
      "outputs": [
        {
          "output_type": "stream",
          "name": "stdout",
          "text": [
            "[[1 2 3]\n",
            " [2 2 2]\n",
            " [7 8 9]]\n",
            "[[1 2]\n",
            " [2 2]]\n",
            "[[1 2]\n",
            " [2 2]]\n",
            "[[1 0]\n",
            " [2 0]]\n",
            "[[1 0 3]\n",
            " [2 0 2]\n",
            " [7 8 9]]\n"
          ]
        }
      ]
    },
    {
      "cell_type": "markdown",
      "metadata": {
        "id": "UrQqOC1Eat5l"
      },
      "source": [
        "\n",
        "* `copy()`: 배열이나 하위 배열 내의 값을 명시적으로 복사"
      ]
    },
    {
      "cell_type": "code",
      "metadata": {
        "id": "hLBZ7Qn6bAKO",
        "colab": {
          "base_uri": "https://localhost:8080/"
        },
        "outputId": "f6ea063c-012d-4a53-ac95-704883f8a898"
      },
      "source": [
        "print(a2)\n",
        "a2_sub_copy = a2[:2, :2].copy()\n",
        "print(a2_sub_copy)\n",
        "a2_sub_copy[:, 1] = 1\n",
        "print(a2_sub_copy)\n",
        "print(a2)"
      ],
      "execution_count": 75,
      "outputs": [
        {
          "output_type": "stream",
          "name": "stdout",
          "text": [
            "[[1 0 3]\n",
            " [2 0 2]\n",
            " [7 8 9]]\n",
            "[[1 0]\n",
            " [2 0]]\n",
            "[[1 1]\n",
            " [2 1]]\n",
            "[[1 0 3]\n",
            " [2 0 2]\n",
            " [7 8 9]]\n"
          ]
        }
      ]
    },
    {
      "cell_type": "markdown",
      "metadata": {
        "id": "4HTc9FXOGtA7"
      },
      "source": [
        "\n",
        "\n",
        "---\n",
        "\n"
      ]
    },
    {
      "cell_type": "markdown",
      "metadata": {
        "id": "XVZY082__yV6"
      },
      "source": [
        "## 배열 변환"
      ]
    },
    {
      "cell_type": "markdown",
      "metadata": {
        "id": "Ec09aPeBO58M"
      },
      "source": [
        "### 배열 전치 및 축 변경"
      ]
    },
    {
      "cell_type": "code",
      "metadata": {
        "id": "anYByBpoWZmj",
        "colab": {
          "base_uri": "https://localhost:8080/"
        },
        "outputId": "13f42ae3-d164-4339-eee9-cb2ae2325ef8"
      },
      "source": [
        "print(a2)\n",
        "print(a2.T)"
      ],
      "execution_count": 76,
      "outputs": [
        {
          "output_type": "stream",
          "name": "stdout",
          "text": [
            "[[1 0 3]\n",
            " [2 0 2]\n",
            " [7 8 9]]\n",
            "[[1 2 7]\n",
            " [0 0 8]\n",
            " [3 2 9]]\n"
          ]
        }
      ]
    },
    {
      "cell_type": "code",
      "metadata": {
        "id": "wg4XC6kiRnZo",
        "colab": {
          "base_uri": "https://localhost:8080/"
        },
        "outputId": "4924d159-467b-4bc9-d6b8-1066cadf044b"
      },
      "source": [
        "print(a3)\n",
        "print(a3.T)"
      ],
      "execution_count": 77,
      "outputs": [
        {
          "output_type": "stream",
          "name": "stdout",
          "text": [
            "[[[1 2 3]\n",
            "  [4 5 6]\n",
            "  [7 8 9]]\n",
            "\n",
            " [[1 2 3]\n",
            "  [4 5 6]\n",
            "  [7 8 9]]\n",
            "\n",
            " [[1 2 3]\n",
            "  [4 5 6]\n",
            "  [7 8 9]]]\n",
            "[[[1 1 1]\n",
            "  [4 4 4]\n",
            "  [7 7 7]]\n",
            "\n",
            " [[2 2 2]\n",
            "  [5 5 5]\n",
            "  [8 8 8]]\n",
            "\n",
            " [[3 3 3]\n",
            "  [6 6 6]\n",
            "  [9 9 9]]]\n"
          ]
        }
      ]
    },
    {
      "cell_type": "code",
      "metadata": {
        "id": "6lPwXL8rRTfI",
        "colab": {
          "base_uri": "https://localhost:8080/"
        },
        "outputId": "376f9e6c-fbc7-412b-81e3-e8b25c613b08"
      },
      "source": [
        "print(a2)\n",
        "print(a2.swapaxes(1,0))"
      ],
      "execution_count": 78,
      "outputs": [
        {
          "output_type": "stream",
          "name": "stdout",
          "text": [
            "[[1 0 3]\n",
            " [2 0 2]\n",
            " [7 8 9]]\n",
            "[[1 2 7]\n",
            " [0 0 8]\n",
            " [3 2 9]]\n"
          ]
        }
      ]
    },
    {
      "cell_type": "code",
      "metadata": {
        "id": "oLbEHtijRewH",
        "colab": {
          "base_uri": "https://localhost:8080/"
        },
        "outputId": "d7513b7f-f036-46b6-faf4-18a88bfa98f5"
      },
      "source": [
        "print(a3)\n",
        "print(a3.swapaxes(0, 1))\n",
        "print(a3.swapaxes(1, 2))"
      ],
      "execution_count": 79,
      "outputs": [
        {
          "output_type": "stream",
          "name": "stdout",
          "text": [
            "[[[1 2 3]\n",
            "  [4 5 6]\n",
            "  [7 8 9]]\n",
            "\n",
            " [[1 2 3]\n",
            "  [4 5 6]\n",
            "  [7 8 9]]\n",
            "\n",
            " [[1 2 3]\n",
            "  [4 5 6]\n",
            "  [7 8 9]]]\n",
            "[[[1 2 3]\n",
            "  [1 2 3]\n",
            "  [1 2 3]]\n",
            "\n",
            " [[4 5 6]\n",
            "  [4 5 6]\n",
            "  [4 5 6]]\n",
            "\n",
            " [[7 8 9]\n",
            "  [7 8 9]\n",
            "  [7 8 9]]]\n",
            "[[[1 4 7]\n",
            "  [2 5 8]\n",
            "  [3 6 9]]\n",
            "\n",
            " [[1 4 7]\n",
            "  [2 5 8]\n",
            "  [3 6 9]]\n",
            "\n",
            " [[1 4 7]\n",
            "  [2 5 8]\n",
            "  [3 6 9]]]\n"
          ]
        }
      ]
    },
    {
      "cell_type": "markdown",
      "metadata": {
        "id": "M7xN8WdOdb_S"
      },
      "source": [
        "### 배열 재구조화\n"
      ]
    },
    {
      "cell_type": "markdown",
      "metadata": {
        "id": "JwZJMpXGfY0V"
      },
      "source": [
        "* `reshape()`: 배열의 형상을 변경"
      ]
    },
    {
      "cell_type": "code",
      "metadata": {
        "id": "SlGQ17VQdd8i",
        "colab": {
          "base_uri": "https://localhost:8080/"
        },
        "outputId": "51200f3c-0762-469c-d65f-36aeb0606eac"
      },
      "source": [
        "n1 = np.arange(1, 10)\n",
        "print(n1)\n",
        "print(n1.reshape(3, 3))"
      ],
      "execution_count": 81,
      "outputs": [
        {
          "output_type": "stream",
          "name": "stdout",
          "text": [
            "[1 2 3 4 5 6 7 8 9]\n",
            "[[1 2 3]\n",
            " [4 5 6]\n",
            " [7 8 9]]\n"
          ]
        }
      ]
    },
    {
      "cell_type": "markdown",
      "metadata": {
        "id": "y_U1W-fQfuQY"
      },
      "source": [
        "* `newaxis()`: 새로운 축 추가"
      ]
    },
    {
      "cell_type": "code",
      "metadata": {
        "id": "COif_weCfkGo",
        "colab": {
          "base_uri": "https://localhost:8080/"
        },
        "outputId": "5ca8f919-f5c3-43fd-8775-021461f2eb82"
      },
      "source": [
        "print(n1)\n",
        "print(n1[np.newaxis, :5])\n",
        "print(n1[:5, np.newaxis])"
      ],
      "execution_count": 82,
      "outputs": [
        {
          "output_type": "stream",
          "name": "stdout",
          "text": [
            "[1 2 3 4 5 6 7 8 9]\n",
            "[[1 2 3 4 5]]\n",
            "[[1]\n",
            " [2]\n",
            " [3]\n",
            " [4]\n",
            " [5]]\n"
          ]
        }
      ]
    },
    {
      "cell_type": "markdown",
      "metadata": {
        "id": "FR82RSDggbcJ"
      },
      "source": [
        "### 배열 크기 변경"
      ]
    },
    {
      "cell_type": "markdown",
      "metadata": {
        "id": "D1LuDMVFl4tc"
      },
      "source": [
        "* 배열 모양만 변경"
      ]
    },
    {
      "cell_type": "code",
      "metadata": {
        "id": "7B6pHlfxgdSJ",
        "colab": {
          "base_uri": "https://localhost:8080/"
        },
        "outputId": "3fe3c259-59ba-44d7-b90c-aca208dfbbd1"
      },
      "source": [
        "n2 = np.random.randint(0, 10, (2,5))\n",
        "print(n2)\n",
        "n2.resize((5,2))\n",
        "print(n2)"
      ],
      "execution_count": 86,
      "outputs": [
        {
          "output_type": "stream",
          "name": "stdout",
          "text": [
            "[[1 5 7 0 2]\n",
            " [9 7 1 7 6]]\n",
            "[[1 5]\n",
            " [7 0]\n",
            " [2 9]\n",
            " [7 1]\n",
            " [7 6]]\n"
          ]
        }
      ]
    },
    {
      "cell_type": "markdown",
      "metadata": {
        "id": "s0adm-h9l6sv"
      },
      "source": [
        "* 배열 크기 증가\n",
        "* 남은 공간은 0으로 채워짐"
      ]
    },
    {
      "cell_type": "code",
      "metadata": {
        "id": "IrX0UcjrlWRV",
        "colab": {
          "base_uri": "https://localhost:8080/",
          "height": 215
        },
        "outputId": "380db3c6-e5b1-49e9-98ba-4593b6acce70"
      },
      "source": [
        "n2.resize((5,5))\n",
        "print(n2)"
      ],
      "execution_count": 87,
      "outputs": [
        {
          "output_type": "error",
          "ename": "ValueError",
          "evalue": "ignored",
          "traceback": [
            "\u001b[0;31m---------------------------------------------------------------------------\u001b[0m",
            "\u001b[0;31mValueError\u001b[0m                                Traceback (most recent call last)",
            "\u001b[0;32m<ipython-input-87-7d12bafc4ec1>\u001b[0m in \u001b[0;36m<module>\u001b[0;34m()\u001b[0m\n\u001b[0;32m----> 1\u001b[0;31m \u001b[0mn2\u001b[0m\u001b[0;34m.\u001b[0m\u001b[0mresize\u001b[0m\u001b[0;34m(\u001b[0m\u001b[0;34m(\u001b[0m\u001b[0;36m5\u001b[0m\u001b[0;34m,\u001b[0m\u001b[0;36m5\u001b[0m\u001b[0;34m)\u001b[0m\u001b[0;34m)\u001b[0m\u001b[0;34m\u001b[0m\u001b[0;34m\u001b[0m\u001b[0m\n\u001b[0m\u001b[1;32m      2\u001b[0m \u001b[0mprint\u001b[0m\u001b[0;34m(\u001b[0m\u001b[0mn2\u001b[0m\u001b[0;34m)\u001b[0m\u001b[0;34m\u001b[0m\u001b[0;34m\u001b[0m\u001b[0m\n",
            "\u001b[0;31mValueError\u001b[0m: cannot resize an array that references or is referenced\nby another array in this way.\nUse the np.resize function or refcheck=False"
          ]
        }
      ]
    },
    {
      "cell_type": "markdown",
      "metadata": {
        "id": "78hPDEzfl9JB"
      },
      "source": [
        "* 배열 크기 감소\n",
        "* 포함되지 않은 값은 삭제됨"
      ]
    },
    {
      "cell_type": "code",
      "metadata": {
        "id": "fJWrwhc6lmjW",
        "colab": {
          "base_uri": "https://localhost:8080/",
          "height": 215
        },
        "outputId": "32464507-80a5-4463-c27d-d44a08b2777e"
      },
      "source": [
        "n2.resize((3,3))\n",
        "print(n2)"
      ],
      "execution_count": 88,
      "outputs": [
        {
          "output_type": "error",
          "ename": "ValueError",
          "evalue": "ignored",
          "traceback": [
            "\u001b[0;31m---------------------------------------------------------------------------\u001b[0m",
            "\u001b[0;31mValueError\u001b[0m                                Traceback (most recent call last)",
            "\u001b[0;32m<ipython-input-88-886748ef586e>\u001b[0m in \u001b[0;36m<module>\u001b[0;34m()\u001b[0m\n\u001b[0;32m----> 1\u001b[0;31m \u001b[0mn2\u001b[0m\u001b[0;34m.\u001b[0m\u001b[0mresize\u001b[0m\u001b[0;34m(\u001b[0m\u001b[0;34m(\u001b[0m\u001b[0;36m3\u001b[0m\u001b[0;34m,\u001b[0m\u001b[0;36m3\u001b[0m\u001b[0;34m)\u001b[0m\u001b[0;34m)\u001b[0m\u001b[0;34m\u001b[0m\u001b[0;34m\u001b[0m\u001b[0m\n\u001b[0m\u001b[1;32m      2\u001b[0m \u001b[0mprint\u001b[0m\u001b[0;34m(\u001b[0m\u001b[0mn2\u001b[0m\u001b[0;34m)\u001b[0m\u001b[0;34m\u001b[0m\u001b[0;34m\u001b[0m\u001b[0m\n",
            "\u001b[0;31mValueError\u001b[0m: cannot resize an array that references or is referenced\nby another array in this way.\nUse the np.resize function or refcheck=False"
          ]
        }
      ]
    },
    {
      "cell_type": "markdown",
      "metadata": {
        "id": "r9z2gD_pHyx9"
      },
      "source": [
        "### 배열 추가\n",
        "\n",
        "* `append()`: 배열의 끝에 값 추가"
      ]
    },
    {
      "cell_type": "code",
      "metadata": {
        "id": "fH4lpQKNH5s1",
        "colab": {
          "base_uri": "https://localhost:8080/"
        },
        "outputId": "f086db19-7b06-48bf-92b5-f419f8a48d64"
      },
      "source": [
        "a2 = np.arange(1, 10).reshape(3,3)\n",
        "print(a2)\n",
        "b2 = np.arange(10, 19).reshape(3, 3)\n",
        "print(b2)"
      ],
      "execution_count": 90,
      "outputs": [
        {
          "output_type": "stream",
          "name": "stdout",
          "text": [
            "[[1 2 3]\n",
            " [4 5 6]\n",
            " [7 8 9]]\n",
            "[[10 11 12]\n",
            " [13 14 15]\n",
            " [16 17 18]]\n"
          ]
        }
      ]
    },
    {
      "cell_type": "markdown",
      "metadata": {
        "id": "n8SMl5VVIquk"
      },
      "source": [
        "* axis 지정이 없으면 1차원 배열 형태로 변형되어 결합"
      ]
    },
    {
      "cell_type": "code",
      "metadata": {
        "id": "LRltk3yFIVsV",
        "colab": {
          "base_uri": "https://localhost:8080/"
        },
        "outputId": "e1aeb3cb-e0e6-43d2-a36b-4e44fb7eb813"
      },
      "source": [
        "c2 = np.append(a2, b2)\n",
        "print(c2)"
      ],
      "execution_count": 91,
      "outputs": [
        {
          "output_type": "stream",
          "name": "stdout",
          "text": [
            "[ 1  2  3  4  5  6  7  8  9 10 11 12 13 14 15 16 17 18]\n"
          ]
        }
      ]
    },
    {
      "cell_type": "markdown",
      "metadata": {
        "id": "sVW2UFVZJfpR"
      },
      "source": [
        "* axis를 0으로 지정\n",
        "* shape[0]을 제외한 나머지 shape은 같아야 함"
      ]
    },
    {
      "cell_type": "code",
      "metadata": {
        "id": "nwJ4xLOeIbMg",
        "colab": {
          "base_uri": "https://localhost:8080/"
        },
        "outputId": "1aeed70f-2895-4ddc-dfcd-93f127c168f1"
      },
      "source": [
        "c2 = np.append(a2, b2, axis = 0)\n",
        "print(c2)"
      ],
      "execution_count": 92,
      "outputs": [
        {
          "output_type": "stream",
          "name": "stdout",
          "text": [
            "[[ 1  2  3]\n",
            " [ 4  5  6]\n",
            " [ 7  8  9]\n",
            " [10 11 12]\n",
            " [13 14 15]\n",
            " [16 17 18]]\n"
          ]
        }
      ]
    },
    {
      "cell_type": "markdown",
      "metadata": {
        "id": "4YXxzygaJmj-"
      },
      "source": [
        "* axis를 1로 지정\n",
        "* shape[1]을 제외한 나머지 shape은 같아야 함"
      ]
    },
    {
      "cell_type": "code",
      "metadata": {
        "id": "JYE4_5gAJmYe",
        "colab": {
          "base_uri": "https://localhost:8080/"
        },
        "outputId": "0f08a073-7f76-466a-aa96-328ebe1d775b"
      },
      "source": [
        "c2 = np.append(a2, b2, axis = 1)\n",
        "print(c2)"
      ],
      "execution_count": 93,
      "outputs": [
        {
          "output_type": "stream",
          "name": "stdout",
          "text": [
            "[[ 1  2  3 10 11 12]\n",
            " [ 4  5  6 13 14 15]\n",
            " [ 7  8  9 16 17 18]]\n"
          ]
        }
      ]
    },
    {
      "cell_type": "markdown",
      "metadata": {
        "id": "9sTza3b2hoe4"
      },
      "source": [
        "### 배열 연결"
      ]
    },
    {
      "cell_type": "markdown",
      "metadata": {
        "id": "TRun2NPYj8Ct"
      },
      "source": [
        "* `concatenate()`: 튜플이나 배열의 리스트를 인수로 사용해 배열 연결"
      ]
    },
    {
      "cell_type": "code",
      "metadata": {
        "id": "lmEqdPifhrB_",
        "colab": {
          "base_uri": "https://localhost:8080/"
        },
        "outputId": "93e312bf-2735-4dc9-af5e-c32da86e2c72"
      },
      "source": [
        "a1 = np.array([1,3,5])\n",
        "b1 = np.array([2,4,6])\n",
        "np.concatenate([a1, b1])"
      ],
      "execution_count": 94,
      "outputs": [
        {
          "output_type": "execute_result",
          "data": {
            "text/plain": [
              "array([1, 3, 5, 2, 4, 6])"
            ]
          },
          "metadata": {},
          "execution_count": 94
        }
      ]
    },
    {
      "cell_type": "code",
      "metadata": {
        "id": "IkoTNIt2k0tp",
        "colab": {
          "base_uri": "https://localhost:8080/"
        },
        "outputId": "dc48fb19-1a05-4684-b071-60d669d8e1bb"
      },
      "source": [
        "c1 = np.array([7,8,9])\n",
        "np.concatenate([a1, b1, c1])\n"
      ],
      "execution_count": 95,
      "outputs": [
        {
          "output_type": "execute_result",
          "data": {
            "text/plain": [
              "array([1, 3, 5, 2, 4, 6, 7, 8, 9])"
            ]
          },
          "metadata": {},
          "execution_count": 95
        }
      ]
    },
    {
      "cell_type": "code",
      "metadata": {
        "id": "vX0SCYX3lEs2",
        "colab": {
          "base_uri": "https://localhost:8080/"
        },
        "outputId": "e6a16c1f-36ab-4044-9c12-951a8cd597ec"
      },
      "source": [
        "a2 = np.array([[1,2,3], [4,5,6]])\n",
        "np.concatenate([a2, a2])"
      ],
      "execution_count": 96,
      "outputs": [
        {
          "output_type": "execute_result",
          "data": {
            "text/plain": [
              "array([[1, 2, 3],\n",
              "       [4, 5, 6],\n",
              "       [1, 2, 3],\n",
              "       [4, 5, 6]])"
            ]
          },
          "metadata": {},
          "execution_count": 96
        }
      ]
    },
    {
      "cell_type": "code",
      "metadata": {
        "id": "Rv6xGva7lxHP",
        "colab": {
          "base_uri": "https://localhost:8080/"
        },
        "outputId": "66f60987-63b6-4d9d-9620-07c3633960d6"
      },
      "source": [
        "a2 = np.array([[1,2,3], [4,5,6]])\n",
        "np.concatenate([a2, a2], axis = 1)"
      ],
      "execution_count": 98,
      "outputs": [
        {
          "output_type": "execute_result",
          "data": {
            "text/plain": [
              "array([[1, 2, 3, 1, 2, 3],\n",
              "       [4, 5, 6, 4, 5, 6]])"
            ]
          },
          "metadata": {},
          "execution_count": 98
        }
      ]
    },
    {
      "cell_type": "markdown",
      "metadata": {
        "id": "MbiBbx4nl2KD"
      },
      "source": [
        "* `vstack()`: 수직 스택(vertical stack), 1차원으로 연결"
      ]
    },
    {
      "cell_type": "code",
      "metadata": {
        "id": "HkHJwdBMl_qi",
        "colab": {
          "base_uri": "https://localhost:8080/"
        },
        "outputId": "2cf78f77-a14b-47ca-d762-e051dd5acbe1"
      },
      "source": [
        "np.vstack([a2, a2])"
      ],
      "execution_count": 99,
      "outputs": [
        {
          "output_type": "execute_result",
          "data": {
            "text/plain": [
              "array([[1, 2, 3],\n",
              "       [4, 5, 6],\n",
              "       [1, 2, 3],\n",
              "       [4, 5, 6]])"
            ]
          },
          "metadata": {},
          "execution_count": 99
        }
      ]
    },
    {
      "cell_type": "markdown",
      "metadata": {
        "id": "-hTlAnWxmHA_"
      },
      "source": [
        "* `hstack()`: 수평 스택(horizontal stack), 2차원으로 연결"
      ]
    },
    {
      "cell_type": "code",
      "metadata": {
        "id": "-HsGlAytmNEz",
        "colab": {
          "base_uri": "https://localhost:8080/"
        },
        "outputId": "d097b2ef-2386-4b8f-978b-93a5fcfa5db1"
      },
      "source": [
        "np.hstack([a2, a2])"
      ],
      "execution_count": 100,
      "outputs": [
        {
          "output_type": "execute_result",
          "data": {
            "text/plain": [
              "array([[1, 2, 3, 1, 2, 3],\n",
              "       [4, 5, 6, 4, 5, 6]])"
            ]
          },
          "metadata": {},
          "execution_count": 100
        }
      ]
    },
    {
      "cell_type": "markdown",
      "metadata": {
        "id": "CshM6LURmUhV"
      },
      "source": [
        "* `dstack()`: 깊이 스택(depth stack), 3차원으로 연결"
      ]
    },
    {
      "cell_type": "code",
      "metadata": {
        "id": "TFBdRddpmU4m",
        "colab": {
          "base_uri": "https://localhost:8080/"
        },
        "outputId": "311fd544-fb8e-44a3-9b51-6396a4ac83d4"
      },
      "source": [
        "np.dstack([a2, a2])"
      ],
      "execution_count": 101,
      "outputs": [
        {
          "output_type": "execute_result",
          "data": {
            "text/plain": [
              "array([[[1, 1],\n",
              "        [2, 2],\n",
              "        [3, 3]],\n",
              "\n",
              "       [[4, 4],\n",
              "        [5, 5],\n",
              "        [6, 6]]])"
            ]
          },
          "metadata": {},
          "execution_count": 101
        }
      ]
    },
    {
      "cell_type": "markdown",
      "metadata": {
        "id": "JUBtc4UnpaSz"
      },
      "source": [
        "* `stack()`: 새로운 차원으로 연결"
      ]
    },
    {
      "cell_type": "code",
      "metadata": {
        "id": "JzoujQ9_pHS5",
        "colab": {
          "base_uri": "https://localhost:8080/"
        },
        "outputId": "01024489-3842-4445-f804-72a63d052a83"
      },
      "source": [
        "np.stack([a2, a2])"
      ],
      "execution_count": 102,
      "outputs": [
        {
          "output_type": "execute_result",
          "data": {
            "text/plain": [
              "array([[[1, 2, 3],\n",
              "        [4, 5, 6]],\n",
              "\n",
              "       [[1, 2, 3],\n",
              "        [4, 5, 6]]])"
            ]
          },
          "metadata": {},
          "execution_count": 102
        }
      ]
    },
    {
      "cell_type": "markdown",
      "metadata": {
        "id": "eYz74NYKo8iH"
      },
      "source": [
        "### 배열 분할"
      ]
    },
    {
      "cell_type": "markdown",
      "metadata": {
        "id": "wjt2zku5pBmF"
      },
      "source": [
        "* `split()`: 배열 분할"
      ]
    },
    {
      "cell_type": "code",
      "metadata": {
        "id": "H_2e71heo-Eq",
        "colab": {
          "base_uri": "https://localhost:8080/"
        },
        "outputId": "20c6a430-6bf8-4368-b1d6-2d555715202b"
      },
      "source": [
        "a1 = np.arange(0, 10)\n",
        "print(a1)\n",
        "b1, c1 = np.split(a1, [5])\n",
        "print(b1, c1)"
      ],
      "execution_count": 103,
      "outputs": [
        {
          "output_type": "stream",
          "name": "stdout",
          "text": [
            "[0 1 2 3 4 5 6 7 8 9]\n",
            "[0 1 2 3 4] [5 6 7 8 9]\n"
          ]
        }
      ]
    },
    {
      "cell_type": "markdown",
      "metadata": {
        "id": "IvvdCQcKsCLn"
      },
      "source": [
        "* `vsplit()`: 수직 분할, 1차원으로 분할"
      ]
    },
    {
      "cell_type": "code",
      "metadata": {
        "id": "GdMYlsiLsCoe",
        "colab": {
          "base_uri": "https://localhost:8080/"
        },
        "outputId": "b0fd8f88-4762-4ff3-9df8-869df718e408"
      },
      "source": [
        "a2 = np.arange(1, 10).reshape(3, 3)\n",
        "print(a2)\n",
        "b2, c2 = np.vsplit(a2, [2])\n",
        "print(b2)\n",
        "print(c2)\n"
      ],
      "execution_count": 105,
      "outputs": [
        {
          "output_type": "stream",
          "name": "stdout",
          "text": [
            "[[1 2 3]\n",
            " [4 5 6]\n",
            " [7 8 9]]\n",
            "[[1 2 3]\n",
            " [4 5 6]]\n",
            "[[7 8 9]]\n"
          ]
        }
      ]
    },
    {
      "cell_type": "markdown",
      "metadata": {
        "id": "1aC0a034rSXi"
      },
      "source": [
        "* `hsplit()`: 수평 분할, 2차원으로 분할"
      ]
    },
    {
      "cell_type": "code",
      "metadata": {
        "id": "ShMnE_bnrSBJ",
        "colab": {
          "base_uri": "https://localhost:8080/"
        },
        "outputId": "3a1d821c-1de3-4d5d-a413-9632ab5510d4"
      },
      "source": [
        "a2 = np.arange(1, 10).reshape(3, 3)\n",
        "print(a2)\n",
        "b2, c2 = np.hsplit(a2, [2])\n",
        "print(b2)\n",
        "print(c2)"
      ],
      "execution_count": 106,
      "outputs": [
        {
          "output_type": "stream",
          "name": "stdout",
          "text": [
            "[[1 2 3]\n",
            " [4 5 6]\n",
            " [7 8 9]]\n",
            "[[1 2]\n",
            " [4 5]\n",
            " [7 8]]\n",
            "[[3]\n",
            " [6]\n",
            " [9]]\n"
          ]
        }
      ]
    },
    {
      "cell_type": "markdown",
      "metadata": {
        "id": "Pz3BDD8qsQER"
      },
      "source": [
        "* `dsplit()`: 깊이 분할, 3차원으로 분할"
      ]
    },
    {
      "cell_type": "code",
      "metadata": {
        "id": "DqHFGd43sQYj",
        "colab": {
          "base_uri": "https://localhost:8080/"
        },
        "outputId": "acbbad62-087c-4451-8342-f1caa71d3344"
      },
      "source": [
        "a3 = np.arange(1, 28).reshape(3, 3, 3)\n",
        "print(a3)\n",
        "b3, c3 = np.dsplit(a3, [2])\n",
        "print(b3)\n",
        "print(c3)"
      ],
      "execution_count": 107,
      "outputs": [
        {
          "output_type": "stream",
          "name": "stdout",
          "text": [
            "[[[ 1  2  3]\n",
            "  [ 4  5  6]\n",
            "  [ 7  8  9]]\n",
            "\n",
            " [[10 11 12]\n",
            "  [13 14 15]\n",
            "  [16 17 18]]\n",
            "\n",
            " [[19 20 21]\n",
            "  [22 23 24]\n",
            "  [25 26 27]]]\n",
            "[[[ 1  2]\n",
            "  [ 4  5]\n",
            "  [ 7  8]]\n",
            "\n",
            " [[10 11]\n",
            "  [13 14]\n",
            "  [16 17]]\n",
            "\n",
            " [[19 20]\n",
            "  [22 23]\n",
            "  [25 26]]]\n",
            "[[[ 3]\n",
            "  [ 6]\n",
            "  [ 9]]\n",
            "\n",
            " [[12]\n",
            "  [15]\n",
            "  [18]]\n",
            "\n",
            " [[21]\n",
            "  [24]\n",
            "  [27]]]\n"
          ]
        }
      ]
    },
    {
      "cell_type": "markdown",
      "metadata": {
        "id": "rK-zrDZuGoVd"
      },
      "source": [
        "\n",
        "\n",
        "---\n",
        "\n"
      ]
    },
    {
      "cell_type": "markdown",
      "metadata": {
        "id": "Vc-iSWewJ3C1"
      },
      "source": [
        "## 배열 연산\n",
        "\n",
        "* NumPy의 배열 연산은 벡터화(vectorized) 연산을 사용\n",
        "* 일반적으로 NumPy의 범용 함수(universal functions)를 통해 구현\n",
        "* 배열 요소에 대한 반복적인 계산을 효율적으로 수행"
      ]
    },
    {
      "cell_type": "markdown",
      "metadata": {
        "id": "Pg2er1A2w3cz"
      },
      "source": [
        "### 브로드캐스팅(Broadcasting)"
      ]
    },
    {
      "cell_type": "code",
      "metadata": {
        "id": "IGU-HRgr20nj",
        "colab": {
          "base_uri": "https://localhost:8080/"
        },
        "outputId": "d54eb86b-9bc8-48e3-df6d-0a4990d2282a"
      },
      "source": [
        "a1 = np.array([1,2,3])\n",
        "print(a1)\n",
        "print(a1 + 5)\n",
        "\n",
        "a2 = np.arange(1, 10).reshape(3, 3)\n",
        "print(a1 + a2)\n",
        "\n",
        "b2 = np.array([1,2,3]).reshape(3, 1)\n",
        "print(b2)\n",
        "print(a1 + b2)"
      ],
      "execution_count": 109,
      "outputs": [
        {
          "output_type": "stream",
          "name": "stdout",
          "text": [
            "[1 2 3]\n",
            "[6 7 8]\n",
            "[[ 2  4  6]\n",
            " [ 5  7  9]\n",
            " [ 8 10 12]]\n",
            "[[1]\n",
            " [2]\n",
            " [3]]\n",
            "[[2 3 4]\n",
            " [3 4 5]\n",
            " [4 5 6]]\n"
          ]
        }
      ]
    },
    {
      "cell_type": "markdown",
      "metadata": {
        "id": "NZzLHHLmwl_b"
      },
      "source": [
        "### 산술 연산(Arithmetic Operators)"
      ]
    },
    {
      "cell_type": "code",
      "metadata": {
        "id": "jHrIjHGEi05k",
        "colab": {
          "base_uri": "https://localhost:8080/"
        },
        "outputId": "8b4b622a-cbeb-413f-efb4-5c5ad889c9e7"
      },
      "source": [
        "a1 = np.arange(1, 10)\n",
        "print(a1)\n",
        "print(a1 + 1)\n",
        "print(np.add(a1, 10))\n",
        "print(a1-2)\n",
        "print(np.subtract(a1, 10))\n",
        "print(-a1)\n",
        "print(np.negative(a1))\n",
        "print(a1 * 2)\n",
        "print(np.multiply(a1, 2))\n",
        "print(a1/2)\n",
        "print(np.divide(a1, 2))\n",
        "print(a1 // 2)\n",
        "print(np.floor_divide(a1, 2))\n",
        "print(a1 ** 2)\n",
        "print(np.power(a1, 2))\n",
        "print(a1 % 2)\n",
        "print(np.mod(a1, 2))"
      ],
      "execution_count": 116,
      "outputs": [
        {
          "output_type": "stream",
          "name": "stdout",
          "text": [
            "[1 2 3 4 5 6 7 8 9]\n",
            "[ 2  3  4  5  6  7  8  9 10]\n",
            "[11 12 13 14 15 16 17 18 19]\n",
            "[-1  0  1  2  3  4  5  6  7]\n",
            "[-9 -8 -7 -6 -5 -4 -3 -2 -1]\n",
            "[-1 -2 -3 -4 -5 -6 -7 -8 -9]\n",
            "[-1 -2 -3 -4 -5 -6 -7 -8 -9]\n",
            "[ 2  4  6  8 10 12 14 16 18]\n",
            "[ 2  4  6  8 10 12 14 16 18]\n",
            "[0.5 1.  1.5 2.  2.5 3.  3.5 4.  4.5]\n",
            "[0.5 1.  1.5 2.  2.5 3.  3.5 4.  4.5]\n",
            "[0 1 1 2 2 3 3 4 4]\n",
            "[0 1 1 2 2 3 3 4 4]\n",
            "[ 1  4  9 16 25 36 49 64 81]\n",
            "[ 1  4  9 16 25 36 49 64 81]\n",
            "[1 0 1 0 1 0 1 0 1]\n",
            "[1 0 1 0 1 0 1 0 1]\n"
          ]
        }
      ]
    },
    {
      "cell_type": "code",
      "metadata": {
        "id": "sMUYzXk3psgC",
        "colab": {
          "base_uri": "https://localhost:8080/"
        },
        "outputId": "de3aac4c-8a8d-4309-e9d4-955f83f0737f"
      },
      "source": [
        "a1 = np.arange(1, 10)\n",
        "print(a1)\n",
        "b1 = np.random.randint(1, 10, size = 9)\n",
        "print(b1)\n",
        "print(a1 + b1)\n",
        "print(a1 - b1)\n",
        "print(a1 * b1)\n",
        "print(a1 / b1)\n",
        "print(a1 // b1)\n",
        "print(a1 ** b1)\n",
        "print(a1 % b1)"
      ],
      "execution_count": 117,
      "outputs": [
        {
          "output_type": "stream",
          "name": "stdout",
          "text": [
            "[1 2 3 4 5 6 7 8 9]\n",
            "[6 9 1 9 2 7 1 2 8]\n",
            "[ 7 11  4 13  7 13  8 10 17]\n",
            "[-5 -7  2 -5  3 -1  6  6  1]\n",
            "[ 6 18  3 36 10 42  7 16 72]\n",
            "[0.16666667 0.22222222 3.         0.44444444 2.5        0.85714286\n",
            " 7.         4.         1.125     ]\n",
            "[0 0 3 0 2 0 7 4 1]\n",
            "[       1      512        3   262144       25   279936        7       64\n",
            " 43046721]\n",
            "[1 2 0 4 1 6 0 0 1]\n"
          ]
        }
      ]
    },
    {
      "cell_type": "code",
      "metadata": {
        "id": "ZkyjPmk5onPK",
        "colab": {
          "base_uri": "https://localhost:8080/"
        },
        "outputId": "729eaeef-7c2f-47a4-df62-29d9aa8bec4c"
      },
      "source": [
        "a2 = np.arange(1, 10).reshape(3,3)\n",
        "print(a2)\n",
        "b2 = np.random.randint(1, 10, size = (3,3))\n",
        "print(b2)\n",
        "print(a2 + b2)\n",
        "print(a2 * b2)\n",
        "print(a2 - b2)\n",
        "print(a2 / b2)\n",
        "print(a2 // b2)\n",
        "print(a2 ** b2)\n",
        "print(a2 % b2)"
      ],
      "execution_count": 118,
      "outputs": [
        {
          "output_type": "stream",
          "name": "stdout",
          "text": [
            "[[1 2 3]\n",
            " [4 5 6]\n",
            " [7 8 9]]\n",
            "[[5 9 3]\n",
            " [2 6 8]\n",
            " [4 1 2]]\n",
            "[[ 6 11  6]\n",
            " [ 6 11 14]\n",
            " [11  9 11]]\n",
            "[[ 5 18  9]\n",
            " [ 8 30 48]\n",
            " [28  8 18]]\n",
            "[[-4 -7  0]\n",
            " [ 2 -1 -2]\n",
            " [ 3  7  7]]\n",
            "[[0.2        0.22222222 1.        ]\n",
            " [2.         0.83333333 0.75      ]\n",
            " [1.75       8.         4.5       ]]\n",
            "[[0 0 1]\n",
            " [2 0 0]\n",
            " [1 8 4]]\n",
            "[[      1     512      27]\n",
            " [     16   15625 1679616]\n",
            " [   2401       8      81]]\n",
            "[[1 2 0]\n",
            " [0 5 6]\n",
            " [3 0 1]]\n"
          ]
        }
      ]
    },
    {
      "cell_type": "markdown",
      "metadata": {
        "id": "hxG_aECas3a9"
      },
      "source": [
        "#### 절대값 함수(Absolute Function)\n",
        "\n",
        "* `absolute()`, `abs()`: 내장된 절대값 함수"
      ]
    },
    {
      "cell_type": "code",
      "metadata": {
        "id": "YmX-0LvWs7qM",
        "colab": {
          "base_uri": "https://localhost:8080/"
        },
        "outputId": "0caf04f6-b607-4918-c8e8-4a9318ccce37"
      },
      "source": [
        "a1 = np.random.randint(-10, 10, size =5)\n",
        "print(a1)\n",
        "print(np.absolute(a1))\n",
        "print(np.abs(a1))\n"
      ],
      "execution_count": 119,
      "outputs": [
        {
          "output_type": "stream",
          "name": "stdout",
          "text": [
            "[7 3 4 4 2]\n",
            "[7 3 4 4 2]\n",
            "[7 3 4 4 2]\n"
          ]
        }
      ]
    },
    {
      "cell_type": "markdown",
      "metadata": {
        "id": "U5uE3sVtzRvA"
      },
      "source": [
        "#### 제곱/제곱근 함수\n",
        "\n",
        "* `square`, `sqrt`: 제곱, 제곱근 함수"
      ]
    },
    {
      "cell_type": "code",
      "metadata": {
        "id": "ggnIxDGzzTfX",
        "colab": {
          "base_uri": "https://localhost:8080/"
        },
        "outputId": "557387bf-d9d9-47a0-b608-b0f25bf7858b"
      },
      "source": [
        "print(a1)\n",
        "print(np.square(a1))\n",
        "print(np.sqrt(a1))"
      ],
      "execution_count": 120,
      "outputs": [
        {
          "output_type": "stream",
          "name": "stdout",
          "text": [
            "[7 3 4 4 2]\n",
            "[49  9 16 16  4]\n",
            "[2.64575131 1.73205081 2.         2.         1.41421356]\n"
          ]
        }
      ]
    },
    {
      "cell_type": "markdown",
      "metadata": {
        "id": "tWh1aQ50vRhB"
      },
      "source": [
        "#### 지수와 로그 함수 (Exponential and Log Function)"
      ]
    },
    {
      "cell_type": "code",
      "metadata": {
        "id": "Dygt3AyHvTZz",
        "colab": {
          "base_uri": "https://localhost:8080/"
        },
        "outputId": "299dea61-0ef0-469e-86b1-6ae4c1a44a9a"
      },
      "source": [
        "a1 = np.random.randint(1, 10, size =5)\n",
        "print(a1)\n",
        "print(np.exp(a1))\n",
        "print(np.exp2(a1))\n",
        "print(np.power(a1, 2))"
      ],
      "execution_count": 121,
      "outputs": [
        {
          "output_type": "stream",
          "name": "stdout",
          "text": [
            "[1 2 2 3 8]\n",
            "[2.71828183e+00 7.38905610e+00 7.38905610e+00 2.00855369e+01\n",
            " 2.98095799e+03]\n",
            "[  2.   4.   4.   8. 256.]\n",
            "[ 1  4  4  9 64]\n"
          ]
        }
      ]
    },
    {
      "cell_type": "code",
      "metadata": {
        "id": "YB0BzwxDvnkT",
        "colab": {
          "base_uri": "https://localhost:8080/"
        },
        "outputId": "310dec75-e67f-492f-adf8-47c7db38abf8"
      },
      "source": [
        "print(a1)\n",
        "print(np.log(a1))\n",
        "print(np.log2(a1))\n",
        "print(np.log10(a1))"
      ],
      "execution_count": 122,
      "outputs": [
        {
          "output_type": "stream",
          "name": "stdout",
          "text": [
            "[1 2 2 3 8]\n",
            "[0.         0.69314718 0.69314718 1.09861229 2.07944154]\n",
            "[0.        1.        1.        1.5849625 3.       ]\n",
            "[0.         0.30103    0.30103    0.47712125 0.90308999]\n"
          ]
        }
      ]
    },
    {
      "cell_type": "markdown",
      "metadata": {
        "id": "wE_p9AxjtdJ9"
      },
      "source": [
        "#### 삼각 함수(Trigonometrical Function)\n"
      ]
    },
    {
      "cell_type": "code",
      "metadata": {
        "id": "6bOSPS81tuo5",
        "colab": {
          "base_uri": "https://localhost:8080/"
        },
        "outputId": "8d56c039-bf34-439c-b2b8-7395a138fe3c"
      },
      "source": [
        "t = np.linspace(0, np.pi, 3)\n",
        "print(t)\n",
        "print(np.sin(t))\n",
        "print(np.cos(t))\n",
        "print(np.tan(t))\n"
      ],
      "execution_count": 123,
      "outputs": [
        {
          "output_type": "stream",
          "name": "stdout",
          "text": [
            "[0.         1.57079633 3.14159265]\n",
            "[0.0000000e+00 1.0000000e+00 1.2246468e-16]\n",
            "[ 1.000000e+00  6.123234e-17 -1.000000e+00]\n",
            "[ 0.00000000e+00  1.63312394e+16 -1.22464680e-16]\n"
          ]
        }
      ]
    },
    {
      "cell_type": "code",
      "metadata": {
        "id": "v7m-AQW9uJ9u",
        "colab": {
          "base_uri": "https://localhost:8080/"
        },
        "outputId": "d2264ea4-d537-4099-b1db-4ee69466edb6"
      },
      "source": [
        "x = [-1, 0, 1]\n",
        "print(x)\n",
        "print(np.arcsin(x))\n",
        "print(np.arccos(x))\n",
        "print(np.arctan(x))"
      ],
      "execution_count": 124,
      "outputs": [
        {
          "output_type": "stream",
          "name": "stdout",
          "text": [
            "[-1, 0, 1]\n",
            "[-1.57079633  0.          1.57079633]\n",
            "[3.14159265 1.57079633 0.        ]\n",
            "[-0.78539816  0.          0.78539816]\n"
          ]
        }
      ]
    },
    {
      "cell_type": "markdown",
      "metadata": {
        "id": "hKJtYUVWwxQy"
      },
      "source": [
        "### 집계 함수(Aggregate Functions)"
      ]
    },
    {
      "cell_type": "markdown",
      "metadata": {
        "id": "GdxMrX5l9m6W"
      },
      "source": [
        "#### sum(): 합 계산"
      ]
    },
    {
      "cell_type": "code",
      "metadata": {
        "id": "AJQ3GjLI0cZU",
        "colab": {
          "base_uri": "https://localhost:8080/"
        },
        "outputId": "f3e417bd-5e45-4e3e-b46a-72324f06b4ac"
      },
      "source": [
        "a2 = np.random.randint(1, 10, size = (3,3))\n",
        "print(a2)\n",
        "print(a2.sum(), np.sum(a2))\n",
        "print(a2.sum(axis = 0), np.sum(a2, axis = 0))\n",
        "print(a2.sum(axis = 1), np.sum(a2, axis = 1))"
      ],
      "execution_count": 125,
      "outputs": [
        {
          "output_type": "stream",
          "name": "stdout",
          "text": [
            "[[9 4 9]\n",
            " [6 8 4]\n",
            " [5 8 2]]\n",
            "55 55\n",
            "[20 20 15] [20 20 15]\n",
            "[22 18 15] [22 18 15]\n"
          ]
        }
      ]
    },
    {
      "cell_type": "markdown",
      "metadata": {
        "id": "U4W4iIb9J4Zd"
      },
      "source": [
        "#### cumsum(): 누적합 계산"
      ]
    },
    {
      "cell_type": "code",
      "metadata": {
        "id": "SRZWZD3UJ4wo",
        "colab": {
          "base_uri": "https://localhost:8080/"
        },
        "outputId": "403fd0e0-6c37-487a-fe84-cb5c35e48c4e"
      },
      "source": [
        "a2 = np.random.randint(1, 10, size = (3,3))\n",
        "print(a2)\n",
        "print(np.cumsum(a2))\n",
        "print(np.cumsum(a2, axis = 0))\n",
        "print(np.cumsum(a2, axis = 1))"
      ],
      "execution_count": 126,
      "outputs": [
        {
          "output_type": "stream",
          "name": "stdout",
          "text": [
            "[[4 5 1]\n",
            " [2 4 7]\n",
            " [1 9 9]]\n",
            "[ 4  9 10 12 16 23 24 33 42]\n",
            "[[ 4  5  1]\n",
            " [ 6  9  8]\n",
            " [ 7 18 17]]\n",
            "[[ 4  9 10]\n",
            " [ 2  6 13]\n",
            " [ 1 10 19]]\n"
          ]
        }
      ]
    },
    {
      "cell_type": "markdown",
      "metadata": {
        "id": "pVaJRWQ-LV0f"
      },
      "source": [
        "#### diff(): 차분 계산"
      ]
    },
    {
      "cell_type": "code",
      "metadata": {
        "id": "yKjnWtGVLWJj",
        "colab": {
          "base_uri": "https://localhost:8080/"
        },
        "outputId": "cac5d2f1-9fe3-4c26-8188-f91de7c351f6"
      },
      "source": [
        "print(a2)\n",
        "print(np.diff(a2))\n",
        "print(np.diff(a2, axis = 0))\n",
        "print(np.diff(a2, axis = 1))"
      ],
      "execution_count": 127,
      "outputs": [
        {
          "output_type": "stream",
          "name": "stdout",
          "text": [
            "[[4 5 1]\n",
            " [2 4 7]\n",
            " [1 9 9]]\n",
            "[[ 1 -4]\n",
            " [ 2  3]\n",
            " [ 8  0]]\n",
            "[[-2 -1  6]\n",
            " [-1  5  2]]\n",
            "[[ 1 -4]\n",
            " [ 2  3]\n",
            " [ 8  0]]\n"
          ]
        }
      ]
    },
    {
      "cell_type": "markdown",
      "metadata": {
        "id": "b6I38HfA9vGL"
      },
      "source": [
        "#### prod(): 곱 계산"
      ]
    },
    {
      "cell_type": "code",
      "metadata": {
        "id": "rGPMXGe89y0O",
        "colab": {
          "base_uri": "https://localhost:8080/"
        },
        "outputId": "6b801c51-ce94-4556-a60f-063a7ecd06ad"
      },
      "source": [
        "print(a2)\n",
        "print(np.prod(a2))\n",
        "print(np.prod(a2, axis = 0))\n",
        "print(np.prod(a2, axis = 1))"
      ],
      "execution_count": 128,
      "outputs": [
        {
          "output_type": "stream",
          "name": "stdout",
          "text": [
            "[[4 5 1]\n",
            " [2 4 7]\n",
            " [1 9 9]]\n",
            "90720\n",
            "[  8 180  63]\n",
            "[20 56 81]\n"
          ]
        }
      ]
    },
    {
      "cell_type": "markdown",
      "metadata": {
        "id": "RwaoVUGcKkkE"
      },
      "source": [
        "#### cumprod(): 누적곱 계산"
      ]
    },
    {
      "cell_type": "code",
      "metadata": {
        "id": "jwYoX9inKk4D",
        "colab": {
          "base_uri": "https://localhost:8080/"
        },
        "outputId": "4a9a8c76-adf0-40fd-f565-52df80dbe8b1"
      },
      "source": [
        "print(a2)\n",
        "print(np.cumprod(a2))\n",
        "print(np.cumprod(a2, axis = 0))\n",
        "print(np.cumprod(a2, axis = 1))"
      ],
      "execution_count": 129,
      "outputs": [
        {
          "output_type": "stream",
          "name": "stdout",
          "text": [
            "[[4 5 1]\n",
            " [2 4 7]\n",
            " [1 9 9]]\n",
            "[    4    20    20    40   160  1120  1120 10080 90720]\n",
            "[[  4   5   1]\n",
            " [  8  20   7]\n",
            " [  8 180  63]]\n",
            "[[ 4 20 20]\n",
            " [ 2  8 56]\n",
            " [ 1  9 81]]\n"
          ]
        }
      ]
    },
    {
      "cell_type": "markdown",
      "metadata": {
        "id": "_LMAbL9hMV7T"
      },
      "source": [
        "#### dot()/matmul(): 점곱/행렬곱 계산"
      ]
    },
    {
      "cell_type": "code",
      "metadata": {
        "id": "xC6FBzF0MWW1",
        "colab": {
          "base_uri": "https://localhost:8080/"
        },
        "outputId": "327aeea4-7b91-4f32-d7aa-1fdcc6fba747"
      },
      "source": [
        "print(a2)\n",
        "b2 = np.ones_like(a2)\n",
        "print(b2)\n",
        "print(np.dot(a2, b2))\n",
        "print(np.matmul(a2, b2))"
      ],
      "execution_count": 130,
      "outputs": [
        {
          "output_type": "stream",
          "name": "stdout",
          "text": [
            "[[4 5 1]\n",
            " [2 4 7]\n",
            " [1 9 9]]\n",
            "[[1 1 1]\n",
            " [1 1 1]\n",
            " [1 1 1]]\n",
            "[[10 10 10]\n",
            " [13 13 13]\n",
            " [19 19 19]]\n",
            "[[10 10 10]\n",
            " [13 13 13]\n",
            " [19 19 19]]\n"
          ]
        }
      ]
    },
    {
      "cell_type": "markdown",
      "metadata": {
        "id": "juVk3vnjPu31"
      },
      "source": [
        "#### tensordot(): 텐서곱 계산"
      ]
    },
    {
      "cell_type": "code",
      "metadata": {
        "id": "3LrcLOcjPvNI",
        "colab": {
          "base_uri": "https://localhost:8080/"
        },
        "outputId": "a534c292-23a8-45e8-f8d1-06d0ad8e7e77"
      },
      "source": [
        "print(a2)\n",
        "print(b2)\n",
        "print(np.tensordot(a2, b2))\n",
        "print(np.tensordot(a2, b2, axes = 0))\n",
        "print(np.tensordot(a2, b2, axes = 1))"
      ],
      "execution_count": 131,
      "outputs": [
        {
          "output_type": "stream",
          "name": "stdout",
          "text": [
            "[[4 5 1]\n",
            " [2 4 7]\n",
            " [1 9 9]]\n",
            "[[1 1 1]\n",
            " [1 1 1]\n",
            " [1 1 1]]\n",
            "42\n",
            "[[[[4 4 4]\n",
            "   [4 4 4]\n",
            "   [4 4 4]]\n",
            "\n",
            "  [[5 5 5]\n",
            "   [5 5 5]\n",
            "   [5 5 5]]\n",
            "\n",
            "  [[1 1 1]\n",
            "   [1 1 1]\n",
            "   [1 1 1]]]\n",
            "\n",
            "\n",
            " [[[2 2 2]\n",
            "   [2 2 2]\n",
            "   [2 2 2]]\n",
            "\n",
            "  [[4 4 4]\n",
            "   [4 4 4]\n",
            "   [4 4 4]]\n",
            "\n",
            "  [[7 7 7]\n",
            "   [7 7 7]\n",
            "   [7 7 7]]]\n",
            "\n",
            "\n",
            " [[[1 1 1]\n",
            "   [1 1 1]\n",
            "   [1 1 1]]\n",
            "\n",
            "  [[9 9 9]\n",
            "   [9 9 9]\n",
            "   [9 9 9]]\n",
            "\n",
            "  [[9 9 9]\n",
            "   [9 9 9]\n",
            "   [9 9 9]]]]\n",
            "[[10 10 10]\n",
            " [13 13 13]\n",
            " [19 19 19]]\n"
          ]
        }
      ]
    },
    {
      "cell_type": "markdown",
      "metadata": {
        "id": "UzmZhB5TNRMX"
      },
      "source": [
        "#### cross(): 벡터곱"
      ]
    },
    {
      "cell_type": "code",
      "metadata": {
        "id": "xvT2hy1FNRkU",
        "colab": {
          "base_uri": "https://localhost:8080/"
        },
        "outputId": "fa7dbc0e-6ee9-479f-c244-c7b5e8183b17"
      },
      "source": [
        "x = [1, 2, 3]\n",
        "y = [4, 5, 6]\n",
        "print(np.cross(x, y))"
      ],
      "execution_count": 132,
      "outputs": [
        {
          "output_type": "stream",
          "name": "stdout",
          "text": [
            "[-3  6 -3]\n"
          ]
        }
      ]
    },
    {
      "cell_type": "markdown",
      "metadata": {
        "id": "SJVYmtrSO5YL"
      },
      "source": [
        "#### inner()/outer(): 내적/외적"
      ]
    },
    {
      "cell_type": "code",
      "metadata": {
        "id": "HJpomax7O5s6",
        "colab": {
          "base_uri": "https://localhost:8080/"
        },
        "outputId": "f4bd9bbd-7443-46e2-9159-233aab75dbd5"
      },
      "source": [
        "print(a2)\n",
        "print(b2)\n",
        "print(np.inner(a2, b2))\n",
        "print(np.outer(a2, b2))"
      ],
      "execution_count": 133,
      "outputs": [
        {
          "output_type": "stream",
          "name": "stdout",
          "text": [
            "[[4 5 1]\n",
            " [2 4 7]\n",
            " [1 9 9]]\n",
            "[[1 1 1]\n",
            " [1 1 1]\n",
            " [1 1 1]]\n",
            "[[10 10 10]\n",
            " [13 13 13]\n",
            " [19 19 19]]\n",
            "[[4 4 4 4 4 4 4 4 4]\n",
            " [5 5 5 5 5 5 5 5 5]\n",
            " [1 1 1 1 1 1 1 1 1]\n",
            " [2 2 2 2 2 2 2 2 2]\n",
            " [4 4 4 4 4 4 4 4 4]\n",
            " [7 7 7 7 7 7 7 7 7]\n",
            " [1 1 1 1 1 1 1 1 1]\n",
            " [9 9 9 9 9 9 9 9 9]\n",
            " [9 9 9 9 9 9 9 9 9]]\n"
          ]
        }
      ]
    },
    {
      "cell_type": "markdown",
      "metadata": {
        "id": "9CIotQgI_RQ-"
      },
      "source": [
        "#### mean(): 평균 계산"
      ]
    },
    {
      "cell_type": "code",
      "metadata": {
        "id": "g96wAEOT_bUk",
        "colab": {
          "base_uri": "https://localhost:8080/"
        },
        "outputId": "1db5ace0-ed46-43f2-b16b-e051ceb53c35"
      },
      "source": [
        "print(a2)\n",
        "print(np.mean(a2))\n",
        "print(np.mean(a2, axis = 0))\n",
        "print(np.mean(a2, axis = 1))"
      ],
      "execution_count": 135,
      "outputs": [
        {
          "output_type": "stream",
          "name": "stdout",
          "text": [
            "[[4 5 1]\n",
            " [2 4 7]\n",
            " [1 9 9]]\n",
            "4.666666666666667\n",
            "[2.33333333 6.         5.66666667]\n",
            "[3.33333333 4.33333333 6.33333333]\n"
          ]
        }
      ]
    },
    {
      "cell_type": "markdown",
      "metadata": {
        "id": "wAG_zijP_Z5o"
      },
      "source": [
        "#### std(): 표준 편차 계산"
      ]
    },
    {
      "cell_type": "code",
      "metadata": {
        "id": "hlpnuyug_TXA",
        "colab": {
          "base_uri": "https://localhost:8080/"
        },
        "outputId": "36774af2-9e38-4be8-e687-8bc8813970e1"
      },
      "source": [
        "print(a2)\n",
        "print(np.std(a2))\n",
        "print(np.std(a2, axis = 0))\n",
        "print(np.std(a2, axis = 1))"
      ],
      "execution_count": 136,
      "outputs": [
        {
          "output_type": "stream",
          "name": "stdout",
          "text": [
            "[[4 5 1]\n",
            " [2 4 7]\n",
            " [1 9 9]]\n",
            "2.943920288775949\n",
            "[1.24721913 2.1602469  3.39934634]\n",
            "[1.69967317 2.05480467 3.77123617]\n"
          ]
        }
      ]
    },
    {
      "cell_type": "markdown",
      "metadata": {
        "id": "5FFTCCDaAEhx"
      },
      "source": [
        "#### var(): 분산 계산"
      ]
    },
    {
      "cell_type": "code",
      "metadata": {
        "id": "CRMNkSdzAGZG",
        "colab": {
          "base_uri": "https://localhost:8080/"
        },
        "outputId": "233a8058-aa11-4326-d893-020de1019186"
      },
      "source": [
        "print(a2)\n",
        "print(np.var(a2))\n",
        "print(np.var(a2, axis = 0))\n",
        "print(np.var(a2, axis = 1))"
      ],
      "execution_count": 137,
      "outputs": [
        {
          "output_type": "stream",
          "name": "stdout",
          "text": [
            "[[4 5 1]\n",
            " [2 4 7]\n",
            " [1 9 9]]\n",
            "8.666666666666666\n",
            "[ 1.55555556  4.66666667 11.55555556]\n",
            "[ 2.88888889  4.22222222 14.22222222]\n"
          ]
        }
      ]
    },
    {
      "cell_type": "markdown",
      "metadata": {
        "id": "QFeh-4tmCCrU"
      },
      "source": [
        "#### min(): 최소값"
      ]
    },
    {
      "cell_type": "code",
      "metadata": {
        "id": "SMNCfYBQCEtf",
        "colab": {
          "base_uri": "https://localhost:8080/"
        },
        "outputId": "d751e675-ec11-4e1f-a4ed-664ec8baee89"
      },
      "source": [
        "print(a2)\n",
        "print(np.min(a2))\n",
        "print(np.min(a2, axis = 0))\n",
        "print(np.min(a2, axis = 1))"
      ],
      "execution_count": 138,
      "outputs": [
        {
          "output_type": "stream",
          "name": "stdout",
          "text": [
            "[[4 5 1]\n",
            " [2 4 7]\n",
            " [1 9 9]]\n",
            "1\n",
            "[1 4 1]\n",
            "[1 2 1]\n"
          ]
        }
      ]
    },
    {
      "cell_type": "markdown",
      "metadata": {
        "id": "A3n_JBnBJ2bo"
      },
      "source": [
        "#### max(): 최대값"
      ]
    },
    {
      "cell_type": "code",
      "metadata": {
        "id": "FmuOFKGAJ6Pf",
        "colab": {
          "base_uri": "https://localhost:8080/"
        },
        "outputId": "47fe704d-4b97-4c88-dbbe-50a879c89ae5"
      },
      "source": [
        "print(a2)\n",
        "print(np.max(a2))\n",
        "print(np.max(a2, axis = 0))\n",
        "print(np.max(a2, axis = 1))"
      ],
      "execution_count": 139,
      "outputs": [
        {
          "output_type": "stream",
          "name": "stdout",
          "text": [
            "[[4 5 1]\n",
            " [2 4 7]\n",
            " [1 9 9]]\n",
            "9\n",
            "[4 9 9]\n",
            "[5 7 9]\n"
          ]
        }
      ]
    },
    {
      "cell_type": "markdown",
      "metadata": {
        "id": "PvGOKDP0J_5b"
      },
      "source": [
        "#### argmin(): 최소값 인덱스"
      ]
    },
    {
      "cell_type": "code",
      "metadata": {
        "id": "1ILP7L3yKCqA",
        "colab": {
          "base_uri": "https://localhost:8080/"
        },
        "outputId": "1ddea50a-4d58-4540-aacb-7d62e437cc98"
      },
      "source": [
        "print(a2)\n",
        "print(np.argmin(a2))\n",
        "print(np.argmin(a2, axis = 0))\n",
        "print(np.argmin(a2, axis = 1))"
      ],
      "execution_count": 141,
      "outputs": [
        {
          "output_type": "stream",
          "name": "stdout",
          "text": [
            "[[4 5 1]\n",
            " [2 4 7]\n",
            " [1 9 9]]\n",
            "2\n",
            "[2 1 0]\n",
            "[2 0 0]\n"
          ]
        }
      ]
    },
    {
      "cell_type": "markdown",
      "metadata": {
        "id": "23IcSctIKbUa"
      },
      "source": [
        "#### argmax(): 최대값 인덱스"
      ]
    },
    {
      "cell_type": "code",
      "metadata": {
        "id": "2m21cfCFKd-Q",
        "colab": {
          "base_uri": "https://localhost:8080/"
        },
        "outputId": "c910c957-372b-4cba-d97c-92277593c528"
      },
      "source": [
        "print(a2)\n",
        "print(np.argmax(a2))\n",
        "print(np.argmax(a2, axis = 0))\n",
        "print(np.argmax(a2, axis = 1))"
      ],
      "execution_count": 140,
      "outputs": [
        {
          "output_type": "stream",
          "name": "stdout",
          "text": [
            "[[4 5 1]\n",
            " [2 4 7]\n",
            " [1 9 9]]\n",
            "7\n",
            "[0 2 2]\n",
            "[1 2 1]\n"
          ]
        }
      ]
    },
    {
      "cell_type": "markdown",
      "metadata": {
        "id": "3TjeNFQLKuZb"
      },
      "source": [
        "#### median(): 중앙값"
      ]
    },
    {
      "cell_type": "code",
      "metadata": {
        "id": "kSLN17bpKwv6",
        "colab": {
          "base_uri": "https://localhost:8080/"
        },
        "outputId": "036789a1-5360-472c-b284-9a98d885eaba"
      },
      "source": [
        "print(a2)\n",
        "print(np.median(a2))\n",
        "print(np.median(a2, axis = 0))\n",
        "print(np.median(a2, axis = 1))"
      ],
      "execution_count": 142,
      "outputs": [
        {
          "output_type": "stream",
          "name": "stdout",
          "text": [
            "[[4 5 1]\n",
            " [2 4 7]\n",
            " [1 9 9]]\n",
            "4.0\n",
            "[2. 5. 7.]\n",
            "[4. 4. 9.]\n"
          ]
        }
      ]
    },
    {
      "cell_type": "markdown",
      "metadata": {
        "id": "df-Id-nhLs3L"
      },
      "source": [
        "#### percentile(): 백분위 수\n",
        "\n"
      ]
    },
    {
      "cell_type": "code",
      "metadata": {
        "id": "N-TCx9hnLvhK",
        "colab": {
          "base_uri": "https://localhost:8080/"
        },
        "outputId": "232d1834-f8de-436a-d484-b0e27def6d7e"
      },
      "source": [
        "a1 = np.array([0,1,2,3])\n",
        "print(a1)\n",
        "print(np.percentile(a1, [0, 20, 40, 60, 80, 100], interpolation = 'linear'))\n",
        "print(np.percentile(a1, [0, 20, 40, 60, 80, 100], interpolation = 'higher'))\n",
        "print(np.percentile(a1, [0, 20, 40, 60, 80, 100], interpolation = 'lower'))\n",
        "print(np.percentile(a1, [0, 20, 40, 60, 80, 100], interpolation = 'nearest'))\n",
        "print(np.percentile(a1, [0, 20, 40, 60, 80, 100], interpolation = 'midpoint'))"
      ],
      "execution_count": 143,
      "outputs": [
        {
          "output_type": "stream",
          "name": "stdout",
          "text": [
            "[0 1 2 3]\n",
            "[0.  0.6 1.2 1.8 2.4 3. ]\n",
            "[0 1 2 2 3 3]\n",
            "[0 0 1 1 2 3]\n",
            "[0 1 1 2 2 3]\n",
            "[0.  0.5 1.5 1.5 2.5 3. ]\n"
          ]
        }
      ]
    },
    {
      "cell_type": "markdown",
      "metadata": {
        "id": "x0NnNsvvNDIs"
      },
      "source": [
        "#### any()"
      ]
    },
    {
      "cell_type": "code",
      "metadata": {
        "id": "I1XDqsFxOMvA",
        "colab": {
          "base_uri": "https://localhost:8080/"
        },
        "outputId": "d80d5db3-efcc-4a70-ca10-5cb011952fbb"
      },
      "source": [
        "a2 = np.array([[False, False, False],\n",
        "               [False, True, True],\n",
        "               [False, True, True]])\n",
        "\n",
        "\n",
        "print(a2)\n",
        "print(np.any(a2))\n",
        "print(np.any(a2, axis = 0))\n",
        "print(np.any(a2, axis = 1))\n",
        "\n",
        "\n"
      ],
      "execution_count": 144,
      "outputs": [
        {
          "output_type": "stream",
          "name": "stdout",
          "text": [
            "[[False False False]\n",
            " [False  True  True]\n",
            " [False  True  True]]\n",
            "True\n",
            "[False  True  True]\n",
            "[False  True  True]\n"
          ]
        }
      ]
    },
    {
      "cell_type": "markdown",
      "metadata": {
        "id": "Uw-wjYgyONBZ"
      },
      "source": [
        "#### all()"
      ]
    },
    {
      "cell_type": "code",
      "metadata": {
        "id": "sXi2AHOHONYq",
        "colab": {
          "base_uri": "https://localhost:8080/"
        },
        "outputId": "4470be46-91b6-42ea-f13a-2713de6b2f34"
      },
      "source": [
        "a2 = np.array([[False, False, False],\n",
        "               [False, True, True],\n",
        "               [False, True, True]])\n",
        "\n",
        "\n",
        "print(a2)\n",
        "print(np.all(a2))\n",
        "print(np.all(a2, axis = 0))\n",
        "print(np.all(a2, axis = 1))\n"
      ],
      "execution_count": 145,
      "outputs": [
        {
          "output_type": "stream",
          "name": "stdout",
          "text": [
            "[[False False False]\n",
            " [False  True  True]\n",
            " [False  True  True]]\n",
            "False\n",
            "[False False False]\n",
            "[False False False]\n"
          ]
        }
      ]
    },
    {
      "cell_type": "markdown",
      "metadata": {
        "id": "0n7lgzmUwqr1"
      },
      "source": [
        "### 비교 연산(Comparison Operators)\n"
      ]
    },
    {
      "cell_type": "code",
      "metadata": {
        "id": "E00V-nBTVnCu",
        "colab": {
          "base_uri": "https://localhost:8080/"
        },
        "outputId": "9b5b049d-ff96-43e6-9d1f-abfc5776611f"
      },
      "source": [
        "a1 = np.arange(1, 10)\n",
        "print(a1)\n",
        "print(a1 == 5)"
      ],
      "execution_count": 147,
      "outputs": [
        {
          "output_type": "stream",
          "name": "stdout",
          "text": [
            "[1 2 3 4 5 6 7 8 9]\n",
            "[False False False False  True False False False False]\n"
          ]
        }
      ]
    },
    {
      "cell_type": "code",
      "metadata": {
        "id": "3MwV1CU1WsWS",
        "colab": {
          "base_uri": "https://localhost:8080/"
        },
        "outputId": "38b328c3-7661-47d7-84f6-3782cb7dab78"
      },
      "source": [
        "a2 = np.arange(1, 10).reshape(3,3)\n",
        "print(a2)\n",
        "print(np.sum(a2))\n",
        "print(np.count_nonzero(a2 > 5))\n",
        "print(np.sum(a2 > 5))\n",
        "print(np.sum(a2 > 5, axis = 0))\n",
        "print(np.sum(a2 > 5, axis = 1))"
      ],
      "execution_count": 150,
      "outputs": [
        {
          "output_type": "stream",
          "name": "stdout",
          "text": [
            "[[1 2 3]\n",
            " [4 5 6]\n",
            " [7 8 9]]\n",
            "45\n",
            "4\n",
            "4\n",
            "[1 1 2]\n",
            "[0 1 3]\n"
          ]
        }
      ]
    },
    {
      "cell_type": "code",
      "metadata": {
        "id": "D4cuMoyEPn8R",
        "colab": {
          "base_uri": "https://localhost:8080/"
        },
        "outputId": "abbe5985-13a9-4f85-f045-fd8fc710963b"
      },
      "source": [
        "a1 = np.array([1,2,3,4,5])\n",
        "print(a1)\n",
        "b1 = np.array([1,2,3,3,4])\n",
        "print(b1)\n",
        "print(np.isclose(a1, b1))"
      ],
      "execution_count": 151,
      "outputs": [
        {
          "output_type": "stream",
          "name": "stdout",
          "text": [
            "[1 2 3 4 5]\n",
            "[1 2 3 3 4]\n",
            "[ True  True  True False False]\n"
          ]
        }
      ]
    },
    {
      "cell_type": "code",
      "metadata": {
        "id": "af9VSc6FyMBh",
        "colab": {
          "base_uri": "https://localhost:8080/"
        },
        "outputId": "83df87ed-910a-4dbc-d370-e57b1f6dc0d8"
      },
      "source": [
        "a1 = np.array([np.nan, 2, np.inf, 4, np.NINF])\n",
        "print(a1)\n",
        "print(np.isnan(a1))\n",
        "print(np.isinf(a1))\n",
        "print(np.isfinite(a1))"
      ],
      "execution_count": 154,
      "outputs": [
        {
          "output_type": "stream",
          "name": "stdout",
          "text": [
            "[ nan   2.  inf   4. -inf]\n",
            "[ True False False False False]\n",
            "[False False  True False  True]\n",
            "[False  True False  True False]\n"
          ]
        }
      ]
    },
    {
      "cell_type": "markdown",
      "metadata": {
        "id": "4BHMetMlYmt-"
      },
      "source": [
        "#### 불리언 연산자(Boolean Operators)\n"
      ]
    },
    {
      "cell_type": "code",
      "metadata": {
        "id": "ZV1-8DkUHOZq",
        "colab": {
          "base_uri": "https://localhost:8080/"
        },
        "outputId": "472a16f0-50c8-4288-f92e-ae84acc77f44"
      },
      "source": [
        "a2 = np.arange(1, 10).reshape(3,3)\n",
        "print(a2)\n",
        "\n",
        "print((a2 > 5) & (a2 < 8))"
      ],
      "execution_count": 155,
      "outputs": [
        {
          "output_type": "stream",
          "name": "stdout",
          "text": [
            "[[1 2 3]\n",
            " [4 5 6]\n",
            " [7 8 9]]\n",
            "[[False False False]\n",
            " [False False  True]\n",
            " [ True False False]]\n"
          ]
        }
      ]
    },
    {
      "cell_type": "markdown",
      "metadata": {
        "id": "FlQJVeGBxIFw"
      },
      "source": [
        "### 배열 정렬"
      ]
    },
    {
      "cell_type": "code",
      "metadata": {
        "id": "x0sodUMqLU37",
        "colab": {
          "base_uri": "https://localhost:8080/"
        },
        "outputId": "250a82a9-2cd5-4d10-ef99-2efc5daafc85"
      },
      "source": [
        "a1 = np.random.randint(1, 10, size = 10)\n",
        "print(a1)\n",
        "print(np.sort(a1))\n",
        "print(a1)\n",
        "print(np.argsort(a1))\n",
        "print(a1)"
      ],
      "execution_count": 156,
      "outputs": [
        {
          "output_type": "stream",
          "name": "stdout",
          "text": [
            "[7 8 4 4 5 6 9 8 9 6]\n",
            "[4 4 5 6 6 7 8 8 9 9]\n",
            "[7 8 4 4 5 6 9 8 9 6]\n",
            "[2 3 4 5 9 0 1 7 6 8]\n",
            "[7 8 4 4 5 6 9 8 9 6]\n"
          ]
        }
      ]
    },
    {
      "cell_type": "code",
      "source": [
        "a2 = np.random.randint(1, 10, size = (3,3))\n",
        "print(a2)\n",
        "print(np.sort(a2, axis = 0))\n",
        "print(np.sort(a2, axis = 1))"
      ],
      "metadata": {
        "id": "neq5BMReC9go",
        "outputId": "93e31956-b852-4947-b533-d5b5d55c54aa",
        "colab": {
          "base_uri": "https://localhost:8080/"
        }
      },
      "execution_count": 157,
      "outputs": [
        {
          "output_type": "stream",
          "name": "stdout",
          "text": [
            "[[1 4 6]\n",
            " [1 8 2]\n",
            " [7 4 9]]\n",
            "[[1 4 2]\n",
            " [1 4 6]\n",
            " [7 8 9]]\n",
            "[[1 4 6]\n",
            " [1 2 8]\n",
            " [4 7 9]]\n"
          ]
        }
      ]
    },
    {
      "cell_type": "markdown",
      "metadata": {
        "id": "yYSItPz_00sZ"
      },
      "source": [
        "#### 부분 정렬\n",
        "\n",
        "* `partition()`: 배열에서 k개의 작은 값을 반환"
      ]
    },
    {
      "cell_type": "code",
      "metadata": {
        "id": "QQwov4N00YFP",
        "colab": {
          "base_uri": "https://localhost:8080/"
        },
        "outputId": "d009631c-df3d-4bdc-820d-181a02be1598"
      },
      "source": [
        "a1 = np.random.randint(1, 10, size = 10)\n",
        "print(a1)\n",
        "print(np.partition(a1, 3))\n"
      ],
      "execution_count": 158,
      "outputs": [
        {
          "output_type": "stream",
          "name": "stdout",
          "text": [
            "[3 6 1 4 1 7 3 8 2 2]\n",
            "[2 1 1 2 6 7 3 8 4 3]\n"
          ]
        }
      ]
    },
    {
      "cell_type": "code",
      "source": [
        "a2 = np.random.randint(1, 10, size = (5,5))\n",
        "print(a2)\n",
        "print(np.partition(a2, 3))\n",
        "print(np.partition(a2, 3, axis = 0))\n",
        "print(np.partition(a2, 3, axis = 1))"
      ],
      "metadata": {
        "id": "oE9sJom0DZwc",
        "outputId": "c85216c6-24fe-4b2b-ea27-2f1171ae4d60",
        "colab": {
          "base_uri": "https://localhost:8080/"
        }
      },
      "execution_count": 159,
      "outputs": [
        {
          "output_type": "stream",
          "name": "stdout",
          "text": [
            "[[9 1 7 7 4]\n",
            " [9 1 7 8 8]\n",
            " [5 1 8 4 3]\n",
            " [5 6 8 2 4]\n",
            " [8 1 3 4 3]]\n",
            "[[1 4 7 7 9]\n",
            " [1 7 8 8 9]\n",
            " [4 3 1 5 8]\n",
            " [2 4 5 6 8]\n",
            " [1 3 3 4 8]]\n",
            "[[5 1 3 2 3]\n",
            " [5 1 7 4 3]\n",
            " [8 1 7 4 4]\n",
            " [9 1 8 7 4]\n",
            " [9 6 8 8 8]]\n",
            "[[1 4 7 7 9]\n",
            " [1 7 8 8 9]\n",
            " [4 3 1 5 8]\n",
            " [2 4 5 6 8]\n",
            " [1 3 3 4 8]]\n"
          ]
        }
      ]
    },
    {
      "cell_type": "markdown",
      "metadata": {
        "id": "77DSA72ML5cI"
      },
      "source": [
        "## 배열 입출력\n"
      ]
    },
    {
      "cell_type": "code",
      "metadata": {
        "id": "da-Mm_gzIs7U",
        "colab": {
          "base_uri": "https://localhost:8080/"
        },
        "outputId": "cf8e4d4e-9ff8-4e28-fbeb-431a913ba586"
      },
      "source": [
        "a2 = np.random.randint(1, 10, size = (5,5))\n",
        "print(a2)\n",
        "np.save(\"a\", a2)\n"
      ],
      "execution_count": 160,
      "outputs": [
        {
          "output_type": "stream",
          "name": "stdout",
          "text": [
            "[[9 3 5 2 4]\n",
            " [3 6 5 9 2]\n",
            " [5 7 3 2 9]\n",
            " [2 1 6 5 9]\n",
            " [3 6 3 9 6]]\n"
          ]
        }
      ]
    },
    {
      "cell_type": "code",
      "metadata": {
        "id": "pFOWyDvAsf11",
        "colab": {
          "base_uri": "https://localhost:8080/"
        },
        "outputId": "8dc0b102-1fba-4972-d590-d380315fc05b"
      },
      "source": [
        "!ls"
      ],
      "execution_count": 161,
      "outputs": [
        {
          "output_type": "stream",
          "name": "stdout",
          "text": [
            "a.npy  sample_data\n"
          ]
        }
      ]
    },
    {
      "cell_type": "code",
      "metadata": {
        "id": "Hvb_ilyisoIV",
        "colab": {
          "base_uri": "https://localhost:8080/"
        },
        "outputId": "3596caab-92d3-4afc-ccf6-2cccefdeae0b"
      },
      "source": [
        "b2 = np.random.randint(1, 10, size = (5,5))\n",
        "print(b2)\n",
        "np.savez('ab', a2, b2)\n"
      ],
      "execution_count": 162,
      "outputs": [
        {
          "output_type": "stream",
          "name": "stdout",
          "text": [
            "[[9 9 2 2 6]\n",
            " [2 9 3 9 4]\n",
            " [7 6 8 3 7]\n",
            " [6 9 4 2 4]\n",
            " [3 6 1 7 7]]\n"
          ]
        }
      ]
    },
    {
      "cell_type": "code",
      "metadata": {
        "id": "ArWZfL31s1wU",
        "colab": {
          "base_uri": "https://localhost:8080/"
        },
        "outputId": "28cea68b-1691-4536-eef5-4e14b97023aa"
      },
      "source": [
        "!ls"
      ],
      "execution_count": 163,
      "outputs": [
        {
          "output_type": "stream",
          "name": "stdout",
          "text": [
            "ab.npz\ta.npy  sample_data\n"
          ]
        }
      ]
    },
    {
      "cell_type": "code",
      "metadata": {
        "id": "che4cEJEs2Tr",
        "colab": {
          "base_uri": "https://localhost:8080/"
        },
        "outputId": "3737665e-3e50-4655-c766-8d7d818e30a4"
      },
      "source": [
        "npy = np.load(\"a.npy\")\n",
        "print(npy)"
      ],
      "execution_count": 164,
      "outputs": [
        {
          "output_type": "stream",
          "name": "stdout",
          "text": [
            "[[9 3 5 2 4]\n",
            " [3 6 5 9 2]\n",
            " [5 7 3 2 9]\n",
            " [2 1 6 5 9]\n",
            " [3 6 3 9 6]]\n"
          ]
        }
      ]
    },
    {
      "cell_type": "code",
      "metadata": {
        "id": "X2yIUsYvtMj6",
        "colab": {
          "base_uri": "https://localhost:8080/"
        },
        "outputId": "f5fed914-aba8-4121-f570-8202941b4a2a"
      },
      "source": [
        "npz = np.load(\"ab.npz\" )\n",
        "print(npz.files)\n",
        "print(npz['arr_0'])\n",
        "print(npz['arr_1'])"
      ],
      "execution_count": 166,
      "outputs": [
        {
          "output_type": "stream",
          "name": "stdout",
          "text": [
            "['arr_0', 'arr_1']\n",
            "[[9 3 5 2 4]\n",
            " [3 6 5 9 2]\n",
            " [5 7 3 2 9]\n",
            " [2 1 6 5 9]\n",
            " [3 6 3 9 6]]\n",
            "[[9 9 2 2 6]\n",
            " [2 9 3 9 4]\n",
            " [7 6 8 3 7]\n",
            " [6 9 4 2 4]\n",
            " [3 6 1 7 7]]\n"
          ]
        }
      ]
    },
    {
      "cell_type": "code",
      "metadata": {
        "id": "Yj5ec-CYtaH1",
        "colab": {
          "base_uri": "https://localhost:8080/"
        },
        "outputId": "8176927f-5aff-4568-8541-f49eb5345a3f"
      },
      "source": [
        "print(a2)\n",
        "np.savetxt(\"a.csv\", a2, delimiter = ',')\n"
      ],
      "execution_count": 167,
      "outputs": [
        {
          "output_type": "stream",
          "name": "stdout",
          "text": [
            "[[9 3 5 2 4]\n",
            " [3 6 5 9 2]\n",
            " [5 7 3 2 9]\n",
            " [2 1 6 5 9]\n",
            " [3 6 3 9 6]]\n"
          ]
        }
      ]
    },
    {
      "cell_type": "code",
      "metadata": {
        "id": "_NIDrc-VuPmv",
        "colab": {
          "base_uri": "https://localhost:8080/"
        },
        "outputId": "a66b022b-8aea-4284-9b55-63834dc93a1a"
      },
      "source": [
        "!ls"
      ],
      "execution_count": 168,
      "outputs": [
        {
          "output_type": "stream",
          "name": "stdout",
          "text": [
            "ab.npz\ta.csv  a.npy  sample_data\n"
          ]
        }
      ]
    },
    {
      "cell_type": "code",
      "metadata": {
        "id": "bPhmIoVBuQMf",
        "colab": {
          "base_uri": "https://localhost:8080/"
        },
        "outputId": "15fcaff8-305a-4877-8e84-d203fa6433ff"
      },
      "source": [
        "!cat a.csv"
      ],
      "execution_count": 169,
      "outputs": [
        {
          "output_type": "stream",
          "name": "stdout",
          "text": [
            "9.000000000000000000e+00,3.000000000000000000e+00,5.000000000000000000e+00,2.000000000000000000e+00,4.000000000000000000e+00\n",
            "3.000000000000000000e+00,6.000000000000000000e+00,5.000000000000000000e+00,9.000000000000000000e+00,2.000000000000000000e+00\n",
            "5.000000000000000000e+00,7.000000000000000000e+00,3.000000000000000000e+00,2.000000000000000000e+00,9.000000000000000000e+00\n",
            "2.000000000000000000e+00,1.000000000000000000e+00,6.000000000000000000e+00,5.000000000000000000e+00,9.000000000000000000e+00\n",
            "3.000000000000000000e+00,6.000000000000000000e+00,3.000000000000000000e+00,9.000000000000000000e+00,6.000000000000000000e+00\n"
          ]
        }
      ]
    },
    {
      "cell_type": "code",
      "metadata": {
        "id": "FeB2p4azuTDv",
        "colab": {
          "base_uri": "https://localhost:8080/"
        },
        "outputId": "38c5fade-ab67-46c8-a6fa-9390b75fb13b"
      },
      "source": [
        "csv = np.loadtxt(\"a.csv\", delimiter = \",\")\n",
        "print(csv)"
      ],
      "execution_count": 170,
      "outputs": [
        {
          "output_type": "stream",
          "name": "stdout",
          "text": [
            "[[9. 3. 5. 2. 4.]\n",
            " [3. 6. 5. 9. 2.]\n",
            " [5. 7. 3. 2. 9.]\n",
            " [2. 1. 6. 5. 9.]\n",
            " [3. 6. 3. 9. 6.]]\n"
          ]
        }
      ]
    },
    {
      "cell_type": "code",
      "metadata": {
        "id": "IUg8Vg4fuxR5",
        "colab": {
          "base_uri": "https://localhost:8080/"
        },
        "outputId": "a84fbe34-3d6b-4e5e-f4bd-f6811b739495"
      },
      "source": [
        "print(b2)\n",
        "np.savetxt(\"b.csv\", b2, delimiter = \",\", fmt = '%.2e', header = 'c1, c2, c3, c4, c5')"
      ],
      "execution_count": 174,
      "outputs": [
        {
          "output_type": "stream",
          "name": "stdout",
          "text": [
            "[[9 9 2 2 6]\n",
            " [2 9 3 9 4]\n",
            " [7 6 8 3 7]\n",
            " [6 9 4 2 4]\n",
            " [3 6 1 7 7]]\n"
          ]
        }
      ]
    },
    {
      "cell_type": "code",
      "metadata": {
        "id": "lIK5dSv6vtm2",
        "colab": {
          "base_uri": "https://localhost:8080/"
        },
        "outputId": "c506bf17-1831-46d3-ad95-d05ecc6382d6"
      },
      "source": [
        "csv = np.loadtxt(\"b.csv\", delimiter = ',')\n",
        "print(csv)"
      ],
      "execution_count": 176,
      "outputs": [
        {
          "output_type": "stream",
          "name": "stdout",
          "text": [
            "[[9. 9. 2. 2. 6.]\n",
            " [2. 9. 3. 9. 4.]\n",
            " [7. 6. 8. 3. 7.]\n",
            " [6. 9. 4. 2. 4.]\n",
            " [3. 6. 1. 7. 7.]]\n"
          ]
        }
      ]
    },
    {
      "cell_type": "code",
      "metadata": {
        "id": "l4O-gVxdv8-d"
      },
      "source": [
        ""
      ],
      "execution_count": null,
      "outputs": []
    },
    {
      "cell_type": "markdown",
      "metadata": {
        "id": "JM2Ghx2NGloN"
      },
      "source": [
        "\n",
        "\n",
        "---\n",
        "\n"
      ]
    }
  ]
}